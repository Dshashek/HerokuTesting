{
 "cells": [
  {
   "cell_type": "code",
   "execution_count": 1,
   "metadata": {
    "collapsed": true
   },
   "outputs": [],
   "source": [
    "#Import libraries\n",
    "import os\n",
    "import pandas as pd\n",
    "import numpy as np\n",
    "from sklearn import preprocessing,metrics \n",
    "from IPython.core.display import HTML\n",
    "pd.set_option(\"display.max_columns\",75)\n",
    "import warnings\n",
    "warnings.filterwarnings('ignore')\n",
    "from sklearn.model_selection import train_test_split,cross_val_score\n",
    "\n",
    "from sklearn.neighbors import KNeighborsClassifier\n",
    "from sklearn.metrics import accuracy_score\n",
    "import matplotlib.pyplot as plt\n",
    "import seaborn as sns\n",
    "%matplotlib inline\n",
    "from sklearn import linear_model\n",
    "from sklearn.metrics import average_precision_score\n",
    "from sklearn.metrics import precision_recall_curve\n",
    "from sklearn.metrics import f1_score"
   ]
  },
  {
   "cell_type": "code",
   "execution_count": 2,
   "metadata": {},
   "outputs": [
    {
     "data": {
      "text/plain": [
       "Index(['Customer_ID', 'Num_CC', 'Dependents', 'Status_Checking_Acc',\n",
       "       'Credit_History', 'Purposre_Credit_Taken', 'Savings_Acc',\n",
       "       'Years_At_Present_Employment', 'Marital_Status_Gender',\n",
       "       'Other_Debtors_Guarantors', 'Other_Inst_Plans ', 'Housing', 'Job',\n",
       "       'Telephone', 'Foreign_Worker', 'Duration_binned',\n",
       "       'Credit_amount_binned', 'Age_binned', 'Default_On_Payment'],\n",
       "      dtype='object')"
      ]
     },
     "execution_count": 2,
     "metadata": {},
     "output_type": "execute_result"
    }
   ],
   "source": [
    "# load clean dataset\n",
    "filepath = \"C:/Users/bvkka/Desktop/FinalProject/Area51Financial/NN_dataset.csv\"\n",
    "Data = pd.read_csv(filepath)\n",
    "Data.columns"
   ]
  },
  {
   "cell_type": "code",
   "execution_count": 3,
   "metadata": {
    "collapsed": true
   },
   "outputs": [],
   "source": [
    "# set Customer_ID as index\n",
    "Data.set_index('Customer_ID',inplace=True)"
   ]
  },
  {
   "cell_type": "code",
   "execution_count": 4,
   "metadata": {
    "collapsed": true
   },
   "outputs": [],
   "source": [
    "#Encoding data columns\n",
    "#Various machine learning algorithms require numerical input data, so you need to represent categorical columns in a numerical column.\n",
    "#In order to encode this data, you could map each value to a number\n",
    "#This process is known as label encoding, and sklearn conveniently will do this for you using Label Encoder.\n",
    "\n",
    "\n",
    "from sklearn.preprocessing import LabelEncoder\n",
    "\n",
    "#creating labelEncoder\n",
    "label_encoder = LabelEncoder()\n",
    "# Converting string labels into numbers.\n",
    "label_encoder.fit(Data['Dependents'])\n",
    "Data['Dependents'] = label_encoder.transform(Data['Dependents'])\n",
    "\n",
    "label_encoder.fit(Data['Status_Checking_Acc'])\n",
    "Data['Status_Checking_Acc'] = label_encoder.transform(Data['Status_Checking_Acc'])\n",
    "\n",
    "label_encoder.fit(Data['Credit_History'])\n",
    "Data['Credit_History'] = label_encoder.transform(Data['Credit_History'])\n",
    "\n",
    "label_encoder.fit(Data['Purposre_Credit_Taken'])\n",
    "Data['Purposre_Credit_Taken'] = label_encoder.transform(Data['Purposre_Credit_Taken'])\n",
    "\n",
    "label_encoder.fit(Data['Savings_Acc'])\n",
    "Data['Savings_Acc'] = label_encoder.transform(Data['Savings_Acc'])\n",
    "\n",
    "label_encoder.fit(Data['Years_At_Present_Employment'])\n",
    "Data['Years_At_Present_Employment'] = label_encoder.transform(Data['Years_At_Present_Employment'])\n",
    "\n",
    "label_encoder.fit(Data['Marital_Status_Gender'])\n",
    "Data['Marital_Status_Gender'] = label_encoder.transform(Data['Marital_Status_Gender'])\n",
    "\n",
    "label_encoder.fit(Data['Other_Debtors_Guarantors'])\n",
    "Data['Other_Debtors_Guarantors'] = label_encoder.transform(Data['Other_Debtors_Guarantors'])\n",
    "\n",
    "label_encoder.fit(Data['Other_Inst_Plans '])\n",
    "Data['Other_Inst_Plans '] = label_encoder.transform(Data['Other_Inst_Plans '])\n",
    "\n",
    "label_encoder.fit(Data['Housing'])\n",
    "Data['Housing'] = label_encoder.transform(Data['Housing'])\n",
    "\n",
    "label_encoder.fit(Data['Job'])\n",
    "Data['Job'] = label_encoder.transform(Data['Job'])\n",
    "\n",
    "label_encoder.fit(Data['Telephone'])\n",
    "Data['Telephone'] = label_encoder.transform(Data['Telephone'])\n",
    "\n",
    "label_encoder.fit(Data['Foreign_Worker'])\n",
    "Data['Foreign_Worker'] = label_encoder.transform(Data['Foreign_Worker'])\n",
    "\n",
    "label_encoder.fit(Data['Duration_binned'])\n",
    "Data['Duration_binned'] = label_encoder.transform(Data['Duration_binned'])\n",
    "\n",
    "label_encoder.fit(Data['Credit_amount_binned'])\n",
    "Data['Credit_amount_binned'] = label_encoder.transform(Data['Credit_amount_binned'])\n",
    "\n",
    "label_encoder.fit(Data['Age_binned'])\n",
    "Data['Age_binned'] = label_encoder.transform(Data['Age_binned'])"
   ]
  },
  {
   "cell_type": "code",
   "execution_count": 5,
   "metadata": {},
   "outputs": [
    {
     "data": {
      "text/plain": [
       "Index(['Purposre_Credit_Taken', 'Years_At_Present_Employment',\n",
       "       'Other_Debtors_Guarantors', 'Housing', 'Telephone', 'Foreign_Worker',\n",
       "       'Duration_binned', 'Credit_amount_binned', 'Age_binned',\n",
       "       'Default_On_Payment'],\n",
       "      dtype='object')"
      ]
     },
     "execution_count": 5,
     "metadata": {},
     "output_type": "execute_result"
    }
   ],
   "source": [
    "\n",
    "Data_new= Data.drop(columns=['Num_CC', 'Dependents', 'Status_Checking_Acc', 'Credit_History', 'Savings_Acc', 'Marital_Status_Gender', 'Other_Inst_Plans ', 'Job'])\n",
    "Data_new.columns"
   ]
  },
  {
   "cell_type": "code",
   "execution_count": 6,
   "metadata": {
    "collapsed": true
   },
   "outputs": [],
   "source": [
    "#To understand model performance, dividing the dataset into a training set and a test set is a good strategy.\n",
    "#to split our dataset into its attributes and labels\n",
    "#To avoid over-fitting, we will divide our dataset into training and test splits\n",
    "X = Data_new.iloc[:,:-1]\n",
    "y = Data_new.iloc[:,-1]\n",
    "X_train, X_test, y_train, y_test = train_test_split(X, y)"
   ]
  },
  {
   "cell_type": "code",
   "execution_count": 7,
   "metadata": {
    "collapsed": true
   },
   "outputs": [],
   "source": [
    "######ROC Curve plot function\n",
    "#This is a callable ROC curve plot function. We have used this function to plot ROC Curve for models. We have used Seaborn package.\n",
    "import seaborn as sns\n",
    "sns.set('talk', 'whitegrid', 'dark', font_scale=1,rc={\"lines.linewidth\": 2, 'grid.linestyle': '--'})\n",
    "def plotAUC(truth, pred, lab):\n",
    "    fpr, tpr, _ = metrics.roc_curve(truth,pred)\n",
    "    roc_auc = metrics.auc(fpr, tpr)\n",
    "    lw = 2\n",
    "    c = (np.random.rand(), np.random.rand(), np.random.rand())\n",
    "    plt.plot(fpr, tpr, color= c,lw=lw, label= lab +'(AUC = %0.2f)' % roc_auc)\n",
    "    plt.plot([0, 1], [0, 1], color='navy', lw=lw, linestyle='--')\n",
    "    plt.xlim([0.0, 1.0])\n",
    "    plt.ylim([0.0, 1.0])\n",
    "    plt.xlabel('False Positive Rate')\n",
    "    plt.ylabel('True Positive Rate')\n",
    "    plt.title('ROC curve') #Receiver Operating Characteristic \n",
    "    plt.legend(loc=\"lower right\")"
   ]
  },
  {
   "cell_type": "code",
   "execution_count": 8,
   "metadata": {
    "collapsed": true
   },
   "outputs": [],
   "source": [
    "###Confusion Matrix Function\n",
    "##to visualize True positives, True Negatives, False Positives and False Negatives for model\n",
    "import itertools\n",
    "from sklearn.metrics import confusion_matrix\n",
    "def plot_confusion_matrix(model, normalize=False): # This function prints and plots the confusion matrix.\n",
    "    cm = confusion_matrix(y_test, model, labels=[0, 1])\n",
    "    classes=[\"No Default\", \"Will Default\"]\n",
    "    cmap = plt.cm.Blues\n",
    "    title = \"Confusion Matrix\"\n",
    "    if normalize:\n",
    "        cm = cm.astype('float') / cm.sum(axis=1)[:, np.newaxis]\n",
    "        cm = np.around(cm, decimals=3)\n",
    "    plt.imshow(cm, interpolation='nearest', cmap=cmap)\n",
    "    plt.title(title)\n",
    "    plt.colorbar()\n",
    "    tick_marks = np.arange(len(classes))\n",
    "    plt.xticks(tick_marks, classes, rotation=45)\n",
    "    plt.yticks(tick_marks, classes)\n",
    "    thresh = cm.max() / 2.\n",
    "    for i, j in itertools.product(range(cm.shape[0]), range(cm.shape[1])):\n",
    "        plt.text(j, i, cm[i, j],\n",
    "                 horizontalalignment=\"center\",\n",
    "                 color=\"white\" if cm[i, j] > thresh else \"black\")\n",
    "    plt.tight_layout()\n",
    "    plt.ylabel('True label')\n",
    "    plt.xlabel('Predicted label')"
   ]
  },
  {
   "cell_type": "code",
   "execution_count": 9,
   "metadata": {},
   "outputs": [
    {
     "name": "stdout",
     "output_type": "stream",
     "text": [
      "k: 1, Train/Test Score: 0.941/0.932\n",
      "mean accuracy of validation_train:  0.8809117947452284\n",
      "k: 3, Train/Test Score: 0.939/0.928\n",
      "mean accuracy of validation_train:  0.8557925596398697\n",
      "k: 5, Train/Test Score: 0.938/0.890\n",
      "mean accuracy of validation_train:  0.7579639208738647\n",
      "k: 7, Train/Test Score: 0.910/0.826\n",
      "mean accuracy of validation_train:  0.6437934758590114\n",
      "k: 9, Train/Test Score: 0.859/0.795\n",
      "mean accuracy of validation_train:  0.6163947737886385\n",
      "k: 11, Train/Test Score: 0.822/0.806\n",
      "mean accuracy of validation_train:  0.5914740776245346\n",
      "k: 13, Train/Test Score: 0.820/0.811\n",
      "mean accuracy of validation_train:  0.5683135932815858\n",
      "k: 15, Train/Test Score: 0.814/0.798\n",
      "mean accuracy of validation_train:  0.5463247550791094\n",
      "k: 17, Train/Test Score: 0.804/0.792\n",
      "mean accuracy of validation_train:  0.5153992844637576\n",
      "k: 19, Train/Test Score: 0.785/0.778\n",
      "mean accuracy of validation_train:  0.491461297506331\n"
     ]
    }
   ],
   "source": [
    "##KNN Model\n",
    "train_scores = []\n",
    "test_scores = []\n",
    "for k in range(1, 20, 2):\n",
    "    knn = KNeighborsClassifier(n_neighbors=k)\n",
    "    knn.fit(X_train, y_train)\n",
    "    train_score = knn.score(X_train, y_train)\n",
    "    test_score = knn.score(X_test, y_test)\n",
    "    train_scores.append(train_score)\n",
    "    test_scores.append(test_score)\n",
    "    print(f\"k: {k}, Train/Test Score: {train_score:.3f}/{test_score:.3f}\")\n",
    "    #### Cross validation\n",
    "    score_CV_train = cross_val_score(knn, X_train, y_train.ravel(), cv=10, scoring = 'f1')   #Flattened array->ravel function\n",
    "    \n",
    "    print (\"mean accuracy of validation_train: \", score_CV_train.mean())"
   ]
  },
  {
   "cell_type": "code",
   "execution_count": 10,
   "metadata": {},
   "outputs": [
    {
     "name": "stdout",
     "output_type": "stream",
     "text": [
      "k=1 Test Acc: 0.932\n",
      "Test accuracy validation:  0.8859060402684564\n"
     ]
    }
   ],
   "source": [
    "\n",
    "knn = KNeighborsClassifier(n_neighbors=1)\n",
    "knn.fit(X_train, y_train)\n",
    "print('k=1 Test Acc: %.3f' % knn.score(X_test, y_test))\n",
    "y_pred = knn.predict(X_test)\n",
    "y_pred\n",
    "f1 = f1_score(y_test, y_pred)\n",
    "print ('Test accuracy validation: ', f1)"
   ]
  },
  {
   "cell_type": "code",
   "execution_count": 11,
   "metadata": {
    "collapsed": true
   },
   "outputs": [],
   "source": [
    "y_pred_KNN = knn.predict(X_test)"
   ]
  },
  {
   "cell_type": "code",
   "execution_count": 12,
   "metadata": {},
   "outputs": [
    {
     "name": "stdout",
     "output_type": "stream",
     "text": [
      "[[835  50]\n",
      " [ 35 330]]\n",
      "             precision    recall  f1-score   support\n",
      "\n",
      "          0       0.96      0.94      0.95       885\n",
      "          1       0.87      0.90      0.89       365\n",
      "\n",
      "avg / total       0.93      0.93      0.93      1250\n",
      "\n",
      "KNN accuracy_CV : 0.886\n"
     ]
    }
   ],
   "source": [
    "from sklearn.metrics import classification_report, confusion_matrix\n",
    "print(confusion_matrix(y_test, y_pred))\n",
    "print(classification_report(y_test, y_pred))\n",
    "KNN_Acc = f1_score(y_test,y_pred)\n",
    "\n",
    "print('KNN accuracy_CV : %.3f' % KNN_Acc)"
   ]
  },
  {
   "cell_type": "code",
   "execution_count": null,
   "metadata": {},
   "outputs": [],
   "source": [
    "\n"
   ]
  },
  {
   "cell_type": "code",
   "execution_count": 13,
   "metadata": {},
   "outputs": [],
   "source": [
    "y_prob_KNN= knn.predict_proba(X_test)[:,1]\n"
   ]
  },
  {
   "cell_type": "code",
   "execution_count": 14,
   "metadata": {},
   "outputs": [
    {
     "name": "stdout",
     "output_type": "stream",
     "text": [
      "KNN accuracy_CV : 0.886\n"
     ]
    },
    {
     "data": {
      "image/png": "[encoded data removed]",
      "text/plain": [
       "<matplotlib.figure.Figure at 0x1ebc20bd6d8>"
      ]
     },
     "metadata": {},
     "output_type": "display_data"
    },
    {
     "data": {
      "text/plain": [
       "<matplotlib.figure.Figure at 0x1ebc42b7f60>"
      ]
     },
     "execution_count": 14,
     "metadata": {},
     "output_type": "execute_result"
    },
    {
     "data": {
      "text/plain": [
       "<matplotlib.figure.Figure at 0x1ebc42b7f60>"
      ]
     },
     "metadata": {},
     "output_type": "display_data"
    }
   ],
   "source": [
    "KNN_Acc = f1_score(y_test,y_pred)\n",
    "print('KNN accuracy_CV : %.3f' % KNN_Acc) \n",
    "plotAUC(y_test,y_prob_KNN,'K Nearest Neighbors')\n",
    "plt.show()\n",
    "plt.figure(figsize=(6,6))"
   ]
  },
  {
   "cell_type": "code",
   "execution_count": null,
   "metadata": {},
   "outputs": [],
   "source": [
    "plot_confusion_matrix(y_pred_KNN, normalize=True)\n",
    "\n",
    "plt.show()\n"
   ]
  },
  {
   "cell_type": "code",
   "execution_count": null,
   "metadata": {
    "collapsed": true
   },
   "outputs": [],
   "source": []
  },
  {
   "cell_type": "code",
   "execution_count": null,
   "metadata": {
    "collapsed": true
   },
   "outputs": [],
   "source": []
  },
  {
   "cell_type": "code",
   "execution_count": null,
   "metadata": {
    "collapsed": true
   },
   "outputs": [],
   "source": []
  },
  {
   "cell_type": "code",
   "execution_count": null,
   "metadata": {
    "collapsed": true
   },
   "outputs": [],
   "source": []
  },
  {
   "cell_type": "code",
   "execution_count": null,
   "metadata": {
    "collapsed": true
   },
   "outputs": [],
   "source": []
  },
  {
   "cell_type": "code",
   "execution_count": null,
   "metadata": {
    "collapsed": true
   },
   "outputs": [],
   "source": [
    "###################******SVM******###############"
   ]
  },
  {
   "cell_type": "code",
   "execution_count": null,
   "metadata": {
    "collapsed": true
   },
   "outputs": [],
   "source": []
  },
  {
   "cell_type": "code",
   "execution_count": 15,
   "metadata": {},
   "outputs": [
    {
     "data": {
      "text/html": [
       "<div>\n",
       "<style scoped>\n",
       "    .dataframe tbody tr th:only-of-type {\n",
       "        vertical-align: middle;\n",
       "    }\n",
       "\n",
       "    .dataframe tbody tr th {\n",
       "        vertical-align: top;\n",
       "    }\n",
       "\n",
       "    .dataframe thead th {\n",
       "        text-align: right;\n",
       "    }\n",
       "</style>\n",
       "<table border=\"1\" class=\"dataframe\">\n",
       "  <thead>\n",
       "    <tr style=\"text-align: right;\">\n",
       "      <th></th>\n",
       "      <th>Num_CC</th>\n",
       "      <th>Dependents</th>\n",
       "      <th>Status_Checking_Acc</th>\n",
       "      <th>Credit_History</th>\n",
       "      <th>Purposre_Credit_Taken</th>\n",
       "      <th>Savings_Acc</th>\n",
       "      <th>Years_At_Present_Employment</th>\n",
       "      <th>Marital_Status_Gender</th>\n",
       "      <th>Other_Debtors_Guarantors</th>\n",
       "      <th>Other_Inst_Plans</th>\n",
       "      <th>Housing</th>\n",
       "      <th>Job</th>\n",
       "      <th>Telephone</th>\n",
       "      <th>Foreign_Worker</th>\n",
       "      <th>Duration_binned</th>\n",
       "      <th>Credit_amount_binned</th>\n",
       "      <th>Age_binned</th>\n",
       "      <th>Default_On_Payment</th>\n",
       "    </tr>\n",
       "    <tr>\n",
       "      <th>Customer_ID</th>\n",
       "      <th></th>\n",
       "      <th></th>\n",
       "      <th></th>\n",
       "      <th></th>\n",
       "      <th></th>\n",
       "      <th></th>\n",
       "      <th></th>\n",
       "      <th></th>\n",
       "      <th></th>\n",
       "      <th></th>\n",
       "      <th></th>\n",
       "      <th></th>\n",
       "      <th></th>\n",
       "      <th></th>\n",
       "      <th></th>\n",
       "      <th></th>\n",
       "      <th></th>\n",
       "      <th></th>\n",
       "    </tr>\n",
       "  </thead>\n",
       "  <tbody>\n",
       "    <tr>\n",
       "      <td>100001</td>\n",
       "      <td>2</td>\n",
       "      <td>1</td>\n",
       "      <td>A11</td>\n",
       "      <td>A34</td>\n",
       "      <td>A43</td>\n",
       "      <td>A65</td>\n",
       "      <td>A75</td>\n",
       "      <td>A93</td>\n",
       "      <td>A101</td>\n",
       "      <td>A143</td>\n",
       "      <td>A152</td>\n",
       "      <td>A173</td>\n",
       "      <td>A192</td>\n",
       "      <td>A201</td>\n",
       "      <td>B10</td>\n",
       "      <td>B20</td>\n",
       "      <td>B35</td>\n",
       "      <td>0</td>\n",
       "    </tr>\n",
       "    <tr>\n",
       "      <td>100002</td>\n",
       "      <td>1</td>\n",
       "      <td>1</td>\n",
       "      <td>A12</td>\n",
       "      <td>A32</td>\n",
       "      <td>A43</td>\n",
       "      <td>A61</td>\n",
       "      <td>A73</td>\n",
       "      <td>A92</td>\n",
       "      <td>A101</td>\n",
       "      <td>A143</td>\n",
       "      <td>A152</td>\n",
       "      <td>A173</td>\n",
       "      <td>A191</td>\n",
       "      <td>A201</td>\n",
       "      <td>B14</td>\n",
       "      <td>B22</td>\n",
       "      <td>B30</td>\n",
       "      <td>0</td>\n",
       "    </tr>\n",
       "    <tr>\n",
       "      <td>100003</td>\n",
       "      <td>1</td>\n",
       "      <td>2</td>\n",
       "      <td>A14</td>\n",
       "      <td>A34</td>\n",
       "      <td>A46</td>\n",
       "      <td>A61</td>\n",
       "      <td>A74</td>\n",
       "      <td>A93</td>\n",
       "      <td>A101</td>\n",
       "      <td>A143</td>\n",
       "      <td>A152</td>\n",
       "      <td>A172</td>\n",
       "      <td>A191</td>\n",
       "      <td>A201</td>\n",
       "      <td>B11</td>\n",
       "      <td>B20</td>\n",
       "      <td>B33</td>\n",
       "      <td>0</td>\n",
       "    </tr>\n",
       "    <tr>\n",
       "      <td>100004</td>\n",
       "      <td>1</td>\n",
       "      <td>2</td>\n",
       "      <td>A11</td>\n",
       "      <td>A32</td>\n",
       "      <td>A42</td>\n",
       "      <td>A61</td>\n",
       "      <td>A74</td>\n",
       "      <td>A93</td>\n",
       "      <td>A103</td>\n",
       "      <td>A143</td>\n",
       "      <td>A153</td>\n",
       "      <td>A173</td>\n",
       "      <td>A191</td>\n",
       "      <td>A201</td>\n",
       "      <td>B13</td>\n",
       "      <td>B23</td>\n",
       "      <td>B33</td>\n",
       "      <td>0</td>\n",
       "    </tr>\n",
       "    <tr>\n",
       "      <td>100005</td>\n",
       "      <td>2</td>\n",
       "      <td>2</td>\n",
       "      <td>A11</td>\n",
       "      <td>A33</td>\n",
       "      <td>A40</td>\n",
       "      <td>A61</td>\n",
       "      <td>A73</td>\n",
       "      <td>A93</td>\n",
       "      <td>A101</td>\n",
       "      <td>A143</td>\n",
       "      <td>A153</td>\n",
       "      <td>A173</td>\n",
       "      <td>A191</td>\n",
       "      <td>A201</td>\n",
       "      <td>B12</td>\n",
       "      <td>B21</td>\n",
       "      <td>B33</td>\n",
       "      <td>1</td>\n",
       "    </tr>\n",
       "  </tbody>\n",
       "</table>\n",
       "</div>"
      ],
      "text/plain": [
       "             Num_CC  Dependents Status_Checking_Acc Credit_History  \\\n",
       "Customer_ID                                                          \n",
       "100001            2           1                 A11            A34   \n",
       "100002            1           1                 A12            A32   \n",
       "100003            1           2                 A14            A34   \n",
       "100004            1           2                 A11            A32   \n",
       "100005            2           2                 A11            A33   \n",
       "\n",
       "            Purposre_Credit_Taken Savings_Acc Years_At_Present_Employment  \\\n",
       "Customer_ID                                                                 \n",
       "100001                        A43         A65                         A75   \n",
       "100002                        A43         A61                         A73   \n",
       "100003                        A46         A61                         A74   \n",
       "100004                        A42         A61                         A74   \n",
       "100005                        A40         A61                         A73   \n",
       "\n",
       "            Marital_Status_Gender Other_Debtors_Guarantors Other_Inst_Plans   \\\n",
       "Customer_ID                                                                    \n",
       "100001                        A93                     A101              A143   \n",
       "100002                        A92                     A101              A143   \n",
       "100003                        A93                     A101              A143   \n",
       "100004                        A93                     A103              A143   \n",
       "100005                        A93                     A101              A143   \n",
       "\n",
       "            Housing   Job Telephone Foreign_Worker Duration_binned  \\\n",
       "Customer_ID                                                          \n",
       "100001         A152  A173      A192           A201             B10   \n",
       "100002         A152  A173      A191           A201             B14   \n",
       "100003         A152  A172      A191           A201             B11   \n",
       "100004         A153  A173      A191           A201             B13   \n",
       "100005         A153  A173      A191           A201             B12   \n",
       "\n",
       "            Credit_amount_binned Age_binned  Default_On_Payment  \n",
       "Customer_ID                                                      \n",
       "100001                       B20        B35                   0  \n",
       "100002                       B22        B30                   0  \n",
       "100003                       B20        B33                   0  \n",
       "100004                       B23        B33                   0  \n",
       "100005                       B21        B33                   1  "
      ]
     },
     "execution_count": 15,
     "metadata": {},
     "output_type": "execute_result"
    }
   ],
   "source": [
    "#Read in csv dataset\n",
    "\n",
    "df = pd.read_csv(os.path.join(\"C:/Users/bvkka/Desktop/FinalProject/Area51Financial/NN_dataset.csv\"))\n",
    "df.set_index('Customer_ID', inplace=True)\n",
    "df.head()"
   ]
  },
  {
   "cell_type": "code",
   "execution_count": 16,
   "metadata": {},
   "outputs": [
    {
     "data": {
      "text/plain": [
       "Index(['Purposre_Credit_Taken', 'Years_At_Present_Employment',\n",
       "       'Other_Debtors_Guarantors', 'Housing', 'Telephone', 'Foreign_Worker',\n",
       "       'Duration_binned', 'Credit_amount_binned', 'Age_binned',\n",
       "       'Default_On_Payment'],\n",
       "      dtype='object')"
      ]
     },
     "execution_count": 16,
     "metadata": {},
     "output_type": "execute_result"
    }
   ],
   "source": [
    "\n",
    "#Dropped columns with institution dependency and unclear data\n",
    "df = df.drop(columns=['Num_CC', 'Dependents', 'Status_Checking_Acc', 'Credit_History', 'Savings_Acc', 'Marital_Status_Gender', 'Other_Inst_Plans ', 'Job'])\n",
    "df.columns"
   ]
  },
  {
   "cell_type": "code",
   "execution_count": 17,
   "metadata": {
    "collapsed": true
   },
   "outputs": [],
   "source": [
    "#Set the target data and value names\n",
    "target = df[\"Default_On_Payment\"]\n",
    "target_names = [\"No Default\", \"Defaulted\"]"
   ]
  },
  {
   "cell_type": "code",
   "execution_count": 18,
   "metadata": {},
   "outputs": [
    {
     "data": {
      "text/html": [
       "<div>\n",
       "<style scoped>\n",
       "    .dataframe tbody tr th:only-of-type {\n",
       "        vertical-align: middle;\n",
       "    }\n",
       "\n",
       "    .dataframe tbody tr th {\n",
       "        vertical-align: top;\n",
       "    }\n",
       "\n",
       "    .dataframe thead th {\n",
       "        text-align: right;\n",
       "    }\n",
       "</style>\n",
       "<table border=\"1\" class=\"dataframe\">\n",
       "  <thead>\n",
       "    <tr style=\"text-align: right;\">\n",
       "      <th></th>\n",
       "      <th>Purposre_Credit_Taken</th>\n",
       "      <th>Years_At_Present_Employment</th>\n",
       "      <th>Other_Debtors_Guarantors</th>\n",
       "      <th>Housing</th>\n",
       "      <th>Telephone</th>\n",
       "      <th>Foreign_Worker</th>\n",
       "      <th>Duration_binned</th>\n",
       "      <th>Credit_amount_binned</th>\n",
       "      <th>Age_binned</th>\n",
       "    </tr>\n",
       "    <tr>\n",
       "      <th>Customer_ID</th>\n",
       "      <th></th>\n",
       "      <th></th>\n",
       "      <th></th>\n",
       "      <th></th>\n",
       "      <th></th>\n",
       "      <th></th>\n",
       "      <th></th>\n",
       "      <th></th>\n",
       "      <th></th>\n",
       "    </tr>\n",
       "  </thead>\n",
       "  <tbody>\n",
       "    <tr>\n",
       "      <td>100001</td>\n",
       "      <td>A43</td>\n",
       "      <td>A75</td>\n",
       "      <td>A101</td>\n",
       "      <td>A152</td>\n",
       "      <td>A192</td>\n",
       "      <td>A201</td>\n",
       "      <td>B10</td>\n",
       "      <td>B20</td>\n",
       "      <td>B35</td>\n",
       "    </tr>\n",
       "    <tr>\n",
       "      <td>100002</td>\n",
       "      <td>A43</td>\n",
       "      <td>A73</td>\n",
       "      <td>A101</td>\n",
       "      <td>A152</td>\n",
       "      <td>A191</td>\n",
       "      <td>A201</td>\n",
       "      <td>B14</td>\n",
       "      <td>B22</td>\n",
       "      <td>B30</td>\n",
       "    </tr>\n",
       "    <tr>\n",
       "      <td>100003</td>\n",
       "      <td>A46</td>\n",
       "      <td>A74</td>\n",
       "      <td>A101</td>\n",
       "      <td>A152</td>\n",
       "      <td>A191</td>\n",
       "      <td>A201</td>\n",
       "      <td>B11</td>\n",
       "      <td>B20</td>\n",
       "      <td>B33</td>\n",
       "    </tr>\n",
       "    <tr>\n",
       "      <td>100004</td>\n",
       "      <td>A42</td>\n",
       "      <td>A74</td>\n",
       "      <td>A103</td>\n",
       "      <td>A153</td>\n",
       "      <td>A191</td>\n",
       "      <td>A201</td>\n",
       "      <td>B13</td>\n",
       "      <td>B23</td>\n",
       "      <td>B33</td>\n",
       "    </tr>\n",
       "    <tr>\n",
       "      <td>100005</td>\n",
       "      <td>A40</td>\n",
       "      <td>A73</td>\n",
       "      <td>A101</td>\n",
       "      <td>A153</td>\n",
       "      <td>A191</td>\n",
       "      <td>A201</td>\n",
       "      <td>B12</td>\n",
       "      <td>B21</td>\n",
       "      <td>B33</td>\n",
       "    </tr>\n",
       "  </tbody>\n",
       "</table>\n",
       "</div>"
      ],
      "text/plain": [
       "            Purposre_Credit_Taken Years_At_Present_Employment  \\\n",
       "Customer_ID                                                     \n",
       "100001                        A43                         A75   \n",
       "100002                        A43                         A73   \n",
       "100003                        A46                         A74   \n",
       "100004                        A42                         A74   \n",
       "100005                        A40                         A73   \n",
       "\n",
       "            Other_Debtors_Guarantors Housing Telephone Foreign_Worker  \\\n",
       "Customer_ID                                                             \n",
       "100001                          A101    A152      A192           A201   \n",
       "100002                          A101    A152      A191           A201   \n",
       "100003                          A101    A152      A191           A201   \n",
       "100004                          A103    A153      A191           A201   \n",
       "100005                          A101    A153      A191           A201   \n",
       "\n",
       "            Duration_binned Credit_amount_binned Age_binned  \n",
       "Customer_ID                                                  \n",
       "100001                  B10                  B20        B35  \n",
       "100002                  B14                  B22        B30  \n",
       "100003                  B11                  B20        B33  \n",
       "100004                  B13                  B23        B33  \n",
       "100005                  B12                  B21        B33  "
      ]
     },
     "execution_count": 18,
     "metadata": {},
     "output_type": "execute_result"
    }
   ],
   "source": [
    "#Create dataframe for just the features\n",
    "data = df.drop(\"Default_On_Payment\", axis=1)\n",
    "feature_names = data.columns\n",
    "data.head()"
   ]
  },
  {
   "cell_type": "code",
   "execution_count": 19,
   "metadata": {},
   "outputs": [
    {
     "data": {
      "text/html": [
       "<div>\n",
       "<style scoped>\n",
       "    .dataframe tbody tr th:only-of-type {\n",
       "        vertical-align: middle;\n",
       "    }\n",
       "\n",
       "    .dataframe tbody tr th {\n",
       "        vertical-align: top;\n",
       "    }\n",
       "\n",
       "    .dataframe thead th {\n",
       "        text-align: right;\n",
       "    }\n",
       "</style>\n",
       "<table border=\"1\" class=\"dataframe\">\n",
       "  <thead>\n",
       "    <tr style=\"text-align: right;\">\n",
       "      <th></th>\n",
       "      <th>Purposre_Credit_Taken</th>\n",
       "      <th>Years_At_Present_Employment</th>\n",
       "      <th>Other_Debtors_Guarantors</th>\n",
       "      <th>Housing</th>\n",
       "      <th>Telephone</th>\n",
       "      <th>Foreign_Worker</th>\n",
       "      <th>Duration_binned</th>\n",
       "      <th>Credit_amount_binned</th>\n",
       "      <th>Age_binned</th>\n",
       "    </tr>\n",
       "    <tr>\n",
       "      <th>Customer_ID</th>\n",
       "      <th></th>\n",
       "      <th></th>\n",
       "      <th></th>\n",
       "      <th></th>\n",
       "      <th></th>\n",
       "      <th></th>\n",
       "      <th></th>\n",
       "      <th></th>\n",
       "      <th></th>\n",
       "    </tr>\n",
       "  </thead>\n",
       "  <tbody>\n",
       "    <tr>\n",
       "      <td>100001</td>\n",
       "      <td>4</td>\n",
       "      <td>4</td>\n",
       "      <td>0</td>\n",
       "      <td>1</td>\n",
       "      <td>1</td>\n",
       "      <td>0</td>\n",
       "      <td>0</td>\n",
       "      <td>0</td>\n",
       "      <td>5</td>\n",
       "    </tr>\n",
       "    <tr>\n",
       "      <td>100002</td>\n",
       "      <td>4</td>\n",
       "      <td>2</td>\n",
       "      <td>0</td>\n",
       "      <td>1</td>\n",
       "      <td>0</td>\n",
       "      <td>0</td>\n",
       "      <td>4</td>\n",
       "      <td>2</td>\n",
       "      <td>0</td>\n",
       "    </tr>\n",
       "    <tr>\n",
       "      <td>100003</td>\n",
       "      <td>7</td>\n",
       "      <td>3</td>\n",
       "      <td>0</td>\n",
       "      <td>1</td>\n",
       "      <td>0</td>\n",
       "      <td>0</td>\n",
       "      <td>1</td>\n",
       "      <td>0</td>\n",
       "      <td>3</td>\n",
       "    </tr>\n",
       "    <tr>\n",
       "      <td>100004</td>\n",
       "      <td>3</td>\n",
       "      <td>3</td>\n",
       "      <td>2</td>\n",
       "      <td>2</td>\n",
       "      <td>0</td>\n",
       "      <td>0</td>\n",
       "      <td>3</td>\n",
       "      <td>3</td>\n",
       "      <td>3</td>\n",
       "    </tr>\n",
       "    <tr>\n",
       "      <td>100005</td>\n",
       "      <td>0</td>\n",
       "      <td>2</td>\n",
       "      <td>0</td>\n",
       "      <td>2</td>\n",
       "      <td>0</td>\n",
       "      <td>0</td>\n",
       "      <td>2</td>\n",
       "      <td>1</td>\n",
       "      <td>3</td>\n",
       "    </tr>\n",
       "  </tbody>\n",
       "</table>\n",
       "</div>"
      ],
      "text/plain": [
       "             Purposre_Credit_Taken  Years_At_Present_Employment  \\\n",
       "Customer_ID                                                       \n",
       "100001                           4                            4   \n",
       "100002                           4                            2   \n",
       "100003                           7                            3   \n",
       "100004                           3                            3   \n",
       "100005                           0                            2   \n",
       "\n",
       "             Other_Debtors_Guarantors  Housing  Telephone  Foreign_Worker  \\\n",
       "Customer_ID                                                                 \n",
       "100001                              0        1          1               0   \n",
       "100002                              0        1          0               0   \n",
       "100003                              0        1          0               0   \n",
       "100004                              2        2          0               0   \n",
       "100005                              0        2          0               0   \n",
       "\n",
       "             Duration_binned  Credit_amount_binned  Age_binned  \n",
       "Customer_ID                                                     \n",
       "100001                     0                     0           5  \n",
       "100002                     4                     2           0  \n",
       "100003                     1                     0           3  \n",
       "100004                     3                     3           3  \n",
       "100005                     2                     1           3  "
      ]
     },
     "execution_count": 19,
     "metadata": {},
     "output_type": "execute_result"
    }
   ],
   "source": [
    "#Label encode features dataframe\n",
    "from sklearn.preprocessing import LabelEncoder\n",
    "\n",
    "columnsToEncode = list(data)\n",
    "le = LabelEncoder()\n",
    "\n",
    "for feature in columnsToEncode:\n",
    "    try:\n",
    "        data[feature] = le.fit_transform(data[feature])\n",
    "    except:\n",
    "        print('Error encoding '+feature)\n",
    "data.head()"
   ]
  },
  {
   "cell_type": "code",
   "execution_count": 20,
   "metadata": {
    "collapsed": true
   },
   "outputs": [],
   "source": [
    "#Split the data into training and testing \n",
    "from sklearn.model_selection import train_test_split\n",
    "X_train_SVM, X_test_SVM, y_train_SVM, y_test_SVM = train_test_split(data, target)"
   ]
  },
  {
   "cell_type": "code",
   "execution_count": 21,
   "metadata": {},
   "outputs": [
    {
     "data": {
      "text/plain": [
       "SVC(C=1.0, cache_size=200, class_weight=None, coef0=0.0,\n",
       "  decision_function_shape='ovr', degree=3, gamma='auto', kernel='rbf',\n",
       "  max_iter=-1, probability=False, random_state=None, shrinking=True,\n",
       "  tol=0.001, verbose=False)"
      ]
     },
     "execution_count": 21,
     "metadata": {},
     "output_type": "execute_result"
    }
   ],
   "source": [
    "#Create Support Vector Classification model and fit the training data\n",
    "from sklearn.svm import SVC\n",
    "model_SVM = SVC(kernel='rbf')\n",
    "model_SVM.fit(X_train_SVM, y_train_SVM)"
   ]
  },
  {
   "cell_type": "code",
   "execution_count": 22,
   "metadata": {},
   "outputs": [
    {
     "name": "stdout",
     "output_type": "stream",
     "text": [
      "Test Acc_SVM: 0.772\n"
     ]
    }
   ],
   "source": [
    "\n",
    "#Run testing data through model and score accuracy\n",
    "print('Test Acc_SVM: %.3f' % model_SVM.score(X_test_SVM, y_test_SVM))"
   ]
  },
  {
   "cell_type": "code",
   "execution_count": 23,
   "metadata": {
    "collapsed": true
   },
   "outputs": [],
   "source": [
    "#Use Grid Search function to hypertune C and gamma parameters\n",
    "from sklearn.model_selection import GridSearchCV\n",
    "cs = [10**i for i in range(0,5)]\n",
    "g = [10**i for i in range(-5,0)]\n",
    "param_grid = {'C': cs, 'gamma':g}\n",
    "grid = GridSearchCV(model_SVM, param_grid, verbose=4)"
   ]
  },
  {
   "cell_type": "code",
   "execution_count": 24,
   "metadata": {},
   "outputs": [
    {
     "name": "stdout",
     "output_type": "stream",
     "text": [
      "Fitting 3 folds for each of 25 candidates, totalling 75 fits\n",
      "[CV] C=1, gamma=1e-05 ................................................\n",
      "[CV] ....... C=1, gamma=1e-05, score=0.7002398081534772, total=   0.2s\n",
      "[CV] C=1, gamma=1e-05 ................................................\n"
     ]
    },
    {
     "name": "stderr",
     "output_type": "stream",
     "text": [
      "[Parallel(n_jobs=1)]: Done   1 out of   1 | elapsed:    0.3s remaining:    0.0s\n"
     ]
    },
    {
     "name": "stdout",
     "output_type": "stream",
     "text": [
      "[CV] ...................... C=1, gamma=1e-05, score=0.7, total=   0.2s\n",
      "[CV] C=1, gamma=1e-05 ................................................\n"
     ]
    },
    {
     "name": "stderr",
     "output_type": "stream",
     "text": [
      "[Parallel(n_jobs=1)]: Done   2 out of   2 | elapsed:    0.8s remaining:    0.0s\n"
     ]
    },
    {
     "name": "stdout",
     "output_type": "stream",
     "text": [
      "[CV] ....... C=1, gamma=1e-05, score=0.7005604483586869, total=   0.2s\n",
      "[CV] C=1, gamma=0.0001 ...............................................\n"
     ]
    },
    {
     "name": "stderr",
     "output_type": "stream",
     "text": [
      "[Parallel(n_jobs=1)]: Done   3 out of   3 | elapsed:    1.2s remaining:    0.0s\n"
     ]
    },
    {
     "name": "stdout",
     "output_type": "stream",
     "text": [
      "[CV] ...... C=1, gamma=0.0001, score=0.7002398081534772, total=   0.2s\n",
      "[CV] C=1, gamma=0.0001 ...............................................\n",
      "[CV] ..................... C=1, gamma=0.0001, score=0.7, total=   0.2s\n",
      "[CV] C=1, gamma=0.0001 ...............................................\n",
      "[CV] ...... C=1, gamma=0.0001, score=0.7005604483586869, total=   0.2s\n",
      "[CV] C=1, gamma=0.001 ................................................\n",
      "[CV] ....... C=1, gamma=0.001, score=0.7002398081534772, total=   0.2s\n",
      "[CV] C=1, gamma=0.001 ................................................\n",
      "[CV] ...................... C=1, gamma=0.001, score=0.7, total=   0.2s\n",
      "[CV] C=1, gamma=0.001 ................................................\n",
      "[CV] ....... C=1, gamma=0.001, score=0.7005604483586869, total=   0.2s\n",
      "[CV] C=1, gamma=0.01 .................................................\n",
      "[CV] ........ C=1, gamma=0.01, score=0.7034372501998402, total=   0.2s\n",
      "[CV] C=1, gamma=0.01 .................................................\n",
      "[CV] .................... C=1, gamma=0.01, score=0.7016, total=   0.2s\n",
      "[CV] C=1, gamma=0.01 .................................................\n",
      "[CV] ........ C=1, gamma=0.01, score=0.7013610888710968, total=   0.2s\n",
      "[CV] C=1, gamma=0.1 ..................................................\n",
      "[CV] ......... C=1, gamma=0.1, score=0.7577937649880095, total=   0.2s\n",
      "[CV] C=1, gamma=0.1 ..................................................\n",
      "[CV] ...................... C=1, gamma=0.1, score=0.772, total=   0.2s\n",
      "[CV] C=1, gamma=0.1 ..................................................\n",
      "[CV] ......... C=1, gamma=0.1, score=0.7638110488390712, total=   0.2s\n",
      "[CV] C=10, gamma=1e-05 ...............................................\n",
      "[CV] ...... C=10, gamma=1e-05, score=0.7002398081534772, total=   0.2s\n",
      "[CV] C=10, gamma=1e-05 ...............................................\n",
      "[CV] ..................... C=10, gamma=1e-05, score=0.7, total=   0.2s\n",
      "[CV] C=10, gamma=1e-05 ...............................................\n",
      "[CV] ...... C=10, gamma=1e-05, score=0.7005604483586869, total=   0.2s\n",
      "[CV] C=10, gamma=0.0001 ..............................................\n",
      "[CV] ..... C=10, gamma=0.0001, score=0.7002398081534772, total=   0.2s\n",
      "[CV] C=10, gamma=0.0001 ..............................................\n",
      "[CV] .................... C=10, gamma=0.0001, score=0.7, total=   0.2s\n",
      "[CV] C=10, gamma=0.0001 ..............................................\n",
      "[CV] ..... C=10, gamma=0.0001, score=0.7005604483586869, total=   0.2s\n",
      "[CV] C=10, gamma=0.001 ...............................................\n",
      "[CV] ...... C=10, gamma=0.001, score=0.7002398081534772, total=   0.3s\n",
      "[CV] C=10, gamma=0.001 ...............................................\n",
      "[CV] ..................... C=10, gamma=0.001, score=0.7, total=   0.3s\n",
      "[CV] C=10, gamma=0.001 ...............................................\n",
      "[CV] ...... C=10, gamma=0.001, score=0.7005604483586869, total=   0.3s\n",
      "[CV] C=10, gamma=0.01 ................................................\n",
      "[CV] ....... C=10, gamma=0.01, score=0.7282174260591526, total=   0.3s\n",
      "[CV] C=10, gamma=0.01 ................................................\n",
      "[CV] .................... C=10, gamma=0.01, score=0.712, total=   0.3s\n",
      "[CV] C=10, gamma=0.01 ................................................\n",
      "[CV] ....... C=10, gamma=0.01, score=0.7317854283426741, total=   0.3s\n",
      "[CV] C=10, gamma=0.1 .................................................\n",
      "[CV] ........ C=10, gamma=0.1, score=0.8185451638689049, total=   0.3s\n",
      "[CV] C=10, gamma=0.1 .................................................\n",
      "[CV] .................... C=10, gamma=0.1, score=0.8248, total=   0.3s\n",
      "[CV] C=10, gamma=0.1 .................................................\n",
      "[CV] ........ C=10, gamma=0.1, score=0.8278622898318655, total=   0.3s\n",
      "[CV] C=100, gamma=1e-05 ..............................................\n",
      "[CV] ..... C=100, gamma=1e-05, score=0.7002398081534772, total=   0.2s\n",
      "[CV] C=100, gamma=1e-05 ..............................................\n",
      "[CV] .................... C=100, gamma=1e-05, score=0.7, total=   0.2s\n",
      "[CV] C=100, gamma=1e-05 ..............................................\n",
      "[CV] ..... C=100, gamma=1e-05, score=0.7005604483586869, total=   0.3s\n",
      "[CV] C=100, gamma=0.0001 .............................................\n",
      "[CV] .... C=100, gamma=0.0001, score=0.7002398081534772, total=   0.3s\n",
      "[CV] C=100, gamma=0.0001 .............................................\n",
      "[CV] ................... C=100, gamma=0.0001, score=0.7, total=   0.4s\n",
      "[CV] C=100, gamma=0.0001 .............................................\n",
      "[CV] .... C=100, gamma=0.0001, score=0.7005604483586869, total=   0.3s\n",
      "[CV] C=100, gamma=0.001 ..............................................\n",
      "[CV] ..... C=100, gamma=0.001, score=0.7034372501998402, total=   0.3s\n",
      "[CV] C=100, gamma=0.001 ..............................................\n",
      "[CV] ................. C=100, gamma=0.001, score=0.7032, total=   0.3s\n",
      "[CV] C=100, gamma=0.001 ..............................................\n",
      "[CV] ..... C=100, gamma=0.001, score=0.7021617293835068, total=   0.3s\n",
      "[CV] C=100, gamma=0.01 ...............................................\n",
      "[CV] ....... C=100, gamma=0.01, score=0.750599520383693, total=   0.5s\n",
      "[CV] C=100, gamma=0.01 ...............................................\n",
      "[CV] .................. C=100, gamma=0.01, score=0.7432, total=   0.5s\n",
      "[CV] C=100, gamma=0.01 ...............................................\n",
      "[CV] ....... C=100, gamma=0.01, score=0.755804643714972, total=   0.5s\n",
      "[CV] C=100, gamma=0.1 ................................................\n",
      "[CV] ....... C=100, gamma=0.1, score=0.8928856914468425, total=   1.2s\n",
      "[CV] C=100, gamma=0.1 ................................................\n",
      "[CV] ................... C=100, gamma=0.1, score=0.8848, total=   1.0s\n",
      "[CV] C=100, gamma=0.1 ................................................\n",
      "[CV] ....... C=100, gamma=0.1, score=0.8815052041633307, total=   1.5s\n",
      "[CV] C=1000, gamma=1e-05 .............................................\n",
      "[CV] .... C=1000, gamma=1e-05, score=0.7002398081534772, total=   0.5s\n",
      "[CV] C=1000, gamma=1e-05 .............................................\n",
      "[CV] ................... C=1000, gamma=1e-05, score=0.7, total=   0.5s\n",
      "[CV] C=1000, gamma=1e-05 .............................................\n",
      "[CV] .... C=1000, gamma=1e-05, score=0.7005604483586869, total=   0.4s\n",
      "[CV] C=1000, gamma=0.0001 ............................................\n",
      "[CV] ... C=1000, gamma=0.0001, score=0.7002398081534772, total=   0.5s\n",
      "[CV] C=1000, gamma=0.0001 ............................................\n",
      "[CV] .................. C=1000, gamma=0.0001, score=0.7, total=   0.5s\n",
      "[CV] C=1000, gamma=0.0001 ............................................\n",
      "[CV] ... C=1000, gamma=0.0001, score=0.7005604483586869, total=   0.6s\n",
      "[CV] C=1000, gamma=0.001 .............................................\n",
      "[CV] .... C=1000, gamma=0.001, score=0.7202238209432454, total=   0.6s\n",
      "[CV] C=1000, gamma=0.001 .............................................\n",
      "[CV] ................ C=1000, gamma=0.001, score=0.7112, total=   0.5s\n",
      "[CV] C=1000, gamma=0.001 .............................................\n",
      "[CV] .... C=1000, gamma=0.001, score=0.7277822257806245, total=   1.1s\n",
      "[CV] C=1000, gamma=0.01 ..............................................\n",
      "[CV] ...... C=1000, gamma=0.01, score=0.768185451638689, total=   4.7s\n",
      "[CV] C=1000, gamma=0.01 ..............................................\n",
      "[CV] ................. C=1000, gamma=0.01, score=0.7736, total=   3.6s\n",
      "[CV] C=1000, gamma=0.01 ..............................................\n",
      "[CV] ..... C=1000, gamma=0.01, score=0.7870296236989591, total=   2.5s\n",
      "[CV] C=1000, gamma=0.1 ...............................................\n",
      "[CV] ...... C=1000, gamma=0.1, score=0.9200639488409272, total=   2.1s\n",
      "[CV] C=1000, gamma=0.1 ...............................................\n",
      "[CV] .................. C=1000, gamma=0.1, score=0.9272, total=   2.3s\n",
      "[CV] C=1000, gamma=0.1 ...............................................\n",
      "[CV] ...... C=1000, gamma=0.1, score=0.9087269815852682, total=   1.8s\n",
      "[CV] C=10000, gamma=1e-05 ............................................\n",
      "[CV] ... C=10000, gamma=1e-05, score=0.7002398081534772, total=   0.5s\n",
      "[CV] C=10000, gamma=1e-05 ............................................\n"
     ]
    },
    {
     "name": "stdout",
     "output_type": "stream",
     "text": [
      "[CV] .................. C=10000, gamma=1e-05, score=0.7, total=   0.5s\n",
      "[CV] C=10000, gamma=1e-05 ............................................\n",
      "[CV] ... C=10000, gamma=1e-05, score=0.7005604483586869, total=   0.4s\n",
      "[CV] C=10000, gamma=0.0001 ...........................................\n",
      "[CV] .. C=10000, gamma=0.0001, score=0.7034372501998402, total=   0.6s\n",
      "[CV] C=10000, gamma=0.0001 ...........................................\n",
      "[CV] .............. C=10000, gamma=0.0001, score=0.7032, total=   0.6s\n",
      "[CV] C=10000, gamma=0.0001 ...........................................\n",
      "[CV] .. C=10000, gamma=0.0001, score=0.7021617293835068, total=   0.7s\n",
      "[CV] C=10000, gamma=0.001 ............................................\n",
      "[CV] ... C=10000, gamma=0.001, score=0.7410071942446043, total=   2.7s\n",
      "[CV] C=10000, gamma=0.001 ............................................\n",
      "[CV] ............... C=10000, gamma=0.001, score=0.7296, total=   3.1s\n",
      "[CV] C=10000, gamma=0.001 ............................................\n",
      "[CV] ... C=10000, gamma=0.001, score=0.7485988791032826, total=   2.4s\n",
      "[CV] C=10000, gamma=0.01 .............................................\n",
      "[CV] .... C=10000, gamma=0.01, score=0.8025579536370904, total=  29.4s\n",
      "[CV] C=10000, gamma=0.01 .............................................\n",
      "[CV] ................ C=10000, gamma=0.01, score=0.8136, total=  25.9s\n",
      "[CV] C=10000, gamma=0.01 .............................................\n",
      "[CV] .... C=10000, gamma=0.01, score=0.8174539631705364, total=  19.8s\n",
      "[CV] C=10000, gamma=0.1 ..............................................\n",
      "[CV] ...... C=10000, gamma=0.1, score=0.920863309352518, total=   2.6s\n",
      "[CV] C=10000, gamma=0.1 ..............................................\n",
      "[CV] ................. C=10000, gamma=0.1, score=0.9256, total=   3.6s\n",
      "[CV] C=10000, gamma=0.1 ..............................................\n",
      "[CV] ..... C=10000, gamma=0.1, score=0.9127301841473179, total=   2.5s\n"
     ]
    },
    {
     "name": "stderr",
     "output_type": "stream",
     "text": [
      "[Parallel(n_jobs=1)]: Done  75 out of  75 | elapsed:  2.5min finished\n"
     ]
    },
    {
     "data": {
      "text/plain": [
       "GridSearchCV(cv=None, error_score='raise',\n",
       "       estimator=SVC(C=1.0, cache_size=200, class_weight=None, coef0=0.0,\n",
       "  decision_function_shape='ovr', degree=3, gamma='auto', kernel='rbf',\n",
       "  max_iter=-1, probability=False, random_state=None, shrinking=True,\n",
       "  tol=0.001, verbose=False),\n",
       "       fit_params=None, iid=True, n_jobs=1,\n",
       "       param_grid={'C': [1, 10, 100, 1000, 10000], 'gamma': [1e-05, 0.0001, 0.001, 0.01, 0.1]},\n",
       "       pre_dispatch='2*n_jobs', refit=True, return_train_score='warn',\n",
       "       scoring=None, verbose=4)"
      ]
     },
     "execution_count": 24,
     "metadata": {},
     "output_type": "execute_result"
    }
   ],
   "source": [
    "\n",
    "#Run all combinations of variables using training data\n",
    "grid.fit(X_train_SVM, y_train_SVM)"
   ]
  },
  {
   "cell_type": "code",
   "execution_count": 25,
   "metadata": {},
   "outputs": [
    {
     "name": "stdout",
     "output_type": "stream",
     "text": [
      "{'C': 10000, 'gamma': 0.1}\n",
      "0.9197333333333333\n"
     ]
    }
   ],
   "source": [
    "\n",
    "#Find the best parameters for the data set\n",
    "print(grid.best_params_)\n",
    "print(grid.best_score_)"
   ]
  },
  {
   "cell_type": "code",
   "execution_count": 26,
   "metadata": {},
   "outputs": [
    {
     "data": {
      "text/plain": [
       "SVC(C=10000, cache_size=200, class_weight=None, coef0=0.0,\n",
       "  decision_function_shape='ovr', degree=3, gamma=0.1, kernel='rbf',\n",
       "  max_iter=-1, probability=False, random_state=None, shrinking=True,\n",
       "  tol=0.001, verbose=False)"
      ]
     },
     "execution_count": 26,
     "metadata": {},
     "output_type": "execute_result"
    }
   ],
   "source": [
    "\n",
    "#Create a new model with the hypertuned parameters\n",
    "model_SVM_2 = SVC(kernel='rbf', C = grid.best_estimator_.C, gamma = grid.best_estimator_.gamma)\n",
    "model_SVM_2.fit(X_train_SVM, y_train_SVM)"
   ]
  },
  {
   "cell_type": "code",
   "execution_count": 27,
   "metadata": {},
   "outputs": [
    {
     "name": "stdout",
     "output_type": "stream",
     "text": [
      "Test Acc SVM_2: 0.939\n"
     ]
    }
   ],
   "source": [
    "\n",
    "#Find the accuracy of the testing data for the new model\n",
    "print('Test Acc SVM_2: %.3f' % model_SVM_2.score(X_test_SVM, y_test_SVM))"
   ]
  },
  {
   "cell_type": "code",
   "execution_count": 28,
   "metadata": {},
   "outputs": [
    {
     "name": "stdout",
     "output_type": "stream",
     "text": [
      "             precision    recall  f1-score   support\n",
      "\n",
      " No Default       0.95      0.97      0.96       879\n",
      "  Defaulted       0.92      0.87      0.89       371\n",
      "\n",
      "avg / total       0.94      0.94      0.94      1250\n",
      "\n"
     ]
    }
   ],
   "source": [
    "#Print classificatin report for hypertuned model\n",
    "from sklearn.metrics import classification_report\n",
    "predictions_SVM = model_SVM_2.predict(X_test_SVM)\n",
    "\n",
    "print(classification_report (y_test_SVM, predictions_SVM, target_names=target_names))"
   ]
  },
  {
   "cell_type": "code",
   "execution_count": 29,
   "metadata": {
    "collapsed": true
   },
   "outputs": [],
   "source": [
    "#Create function to plot an ROC (Receiver Operating Characteristic) curve\n",
    "import seaborn as sns\n",
    "sns.set('talk', 'whitegrid', 'dark', font_scale=1, rc={\"lines.linewidth\": 2, 'grid.linestyle': '--'})\n",
    "predictprob_SVM = model_SVM_2.decision_function(X_test_SVM)\n",
    "\n",
    "def plotAUC(truth, pred, lab):\n",
    "    fpr, tpr, _ = metrics.roc_curve(truth,pred)\n",
    "    roc_auc = metrics.auc(fpr, tpr)\n",
    "    lw = 2\n",
    "    c = (np.random.rand(), np.random.rand(), np.random.rand())\n",
    "    plt.plot(fpr, tpr, color= c,lw=lw, label= lab +'(AUC = %0.2f)' % roc_auc)\n",
    "    plt.plot([0, 1], [0, 1], color='navy', lw=lw, linestyle='--')\n",
    "    plt.xlim([0.0, 1.0])\n",
    "    plt.ylim([0.0, 1.0])\n",
    "    plt.xlabel('False Positive Rate')\n",
    "    plt.ylabel('True Positive Rate')\n",
    "    plt.title('ROC curve') #Receiver Operating Characteristic \n",
    "    plt.legend(loc=\"lower right\")\n",
    "    plt.show()"
   ]
  },
  {
   "cell_type": "code",
   "execution_count": 30,
   "metadata": {},
   "outputs": [
    {
     "data": {
      "image/png": "[encoded data removed]",
      "text/plain": [
       "<matplotlib.figure.Figure at 0x1ebc4449e10>"
      ]
     },
     "metadata": {},
     "output_type": "display_data"
    }
   ],
   "source": [
    "plotAUC(y_test_SVM,predictprob_SVM, 'SVM')\n",
    "\n",
    "plt.show()\n"
   ]
  },
  {
   "cell_type": "code",
   "execution_count": null,
   "metadata": {},
   "outputs": [],
   "source": [
    "plt.figure(figsize=(6,6))\n",
    "plot_confusion_matrix(predictions_SVM, normalize=True)"
   ]
  },
  {
   "cell_type": "code",
   "execution_count": null,
   "metadata": {},
   "outputs": [],
   "source": []
  },
  {
   "cell_type": "code",
   "execution_count": null,
   "metadata": {},
   "outputs": [],
   "source": []
  },
  {
   "cell_type": "code",
   "execution_count": null,
   "metadata": {
    "collapsed": true
   },
   "outputs": [],
   "source": []
  },
  {
   "cell_type": "code",
   "execution_count": null,
   "metadata": {
    "collapsed": true
   },
   "outputs": [],
   "source": []
  },
  {
   "cell_type": "code",
   "execution_count": null,
   "metadata": {
    "collapsed": true
   },
   "outputs": [],
   "source": [
    "######*****************NN*****#############"
   ]
  },
  {
   "cell_type": "code",
   "execution_count": null,
   "metadata": {},
   "outputs": [],
   "source": [
    "import sys\n",
    "!{sys.executable} -m pip install --upgrade keras==2.1.5\n"
   ]
  },
  {
   "cell_type": "code",
   "execution_count": null,
   "metadata": {},
   "outputs": [],
   "source": [
    "import sys\n",
    "!{sys.executable} -m pip install -U keras tensorflow"
   ]
  },
  {
   "cell_type": "code",
   "execution_count": null,
   "metadata": {},
   "outputs": [],
   "source": [
    "#import sys\n",
    "#!{sys.executable} -m pip install --user --ignore-installed --no-warn-script-location --upgrade tensorflow==1.4.0\n",
    "#pip install -U keras tensorflow"
   ]
  },
  {
   "cell_type": "code",
   "execution_count": null,
   "metadata": {
    "collapsed": true
   },
   "outputs": [],
   "source": [
    "\n"
   ]
  },
  {
   "cell_type": "code",
   "execution_count": 31,
   "metadata": {},
   "outputs": [
    {
     "name": "stderr",
     "output_type": "stream",
     "text": [
      "Using TensorFlow backend.\n"
     ]
    },
    {
     "data": {
      "text/plain": [
       "Index(['Customer_ID', 'Num_CC', 'Dependents', 'Status_Checking_Acc',\n",
       "       'Credit_History', 'Purposre_Credit_Taken', 'Savings_Acc',\n",
       "       'Years_At_Present_Employment', 'Marital_Status_Gender',\n",
       "       'Other_Debtors_Guarantors', 'Other_Inst_Plans ', 'Housing', 'Job',\n",
       "       'Telephone', 'Foreign_Worker', 'Duration_binned',\n",
       "       'Credit_amount_binned', 'Age_binned', 'Default_On_Payment'],\n",
       "      dtype='object')"
      ]
     },
     "execution_count": 31,
     "metadata": {},
     "output_type": "execute_result"
    }
   ],
   "source": [
    "\n",
    "import os\n",
    "import pandas as pd\n",
    "import numpy as np\n",
    "from sklearn.preprocessing import LabelEncoder\n",
    "#import tensorflow \n",
    "import tensorflow as tf\n",
    "from tensorflow.python import keras\n",
    "from keras.utils import to_categorical\n",
    "from keras.layers import Activation, Dense\n",
    "# load NN_dataset\n",
    "filepath = \"C:/Users/bvkka/Desktop/FinalProject/Area51Financial/NN_dataset.csv\"\n",
    "NN_data = pd.read_csv(filepath)\n",
    "NN_data.columns"
   ]
  },
  {
   "cell_type": "code",
   "execution_count": 32,
   "metadata": {},
   "outputs": [],
   "source": [
    "# set Customer_ID as index\n",
    "NN_data.set_index('Customer_ID',inplace=True)"
   ]
  },
  {
   "cell_type": "code",
   "execution_count": 33,
   "metadata": {},
   "outputs": [],
   "source": [
    "NN_data['Num_CC'] = NN_data['Num_CC'].astype(str)\n",
    "NN_data['Dependents'] = NN_data['Dependents'].astype(str)"
   ]
  },
  {
   "cell_type": "code",
   "execution_count": 34,
   "metadata": {
    "collapsed": true
   },
   "outputs": [],
   "source": [
    "NN_data = NN_data.drop(columns=['Num_CC', 'Dependents', 'Status_Checking_Acc', 'Credit_History', 'Savings_Acc', 'Marital_Status_Gender', 'Other_Inst_Plans ', 'Job'])"
   ]
  },
  {
   "cell_type": "code",
   "execution_count": 35,
   "metadata": {
    "collapsed": true
   },
   "outputs": [],
   "source": [
    "NN_data = pd.get_dummies(NN_data)"
   ]
  },
  {
   "cell_type": "code",
   "execution_count": 36,
   "metadata": {
    "collapsed": true
   },
   "outputs": [],
   "source": [
    "data_NN = NN_data.values\n",
    "X_NN = data_NN[:, 1:77]\n",
    "y_NN = data_NN[:, 0]"
   ]
  },
  {
   "cell_type": "code",
   "execution_count": 37,
   "metadata": {},
   "outputs": [
    {
     "data": {
      "text/plain": [
       "array([[1., 0.],\n",
       "       [1., 0.],\n",
       "       [1., 0.],\n",
       "       ...,\n",
       "       [1., 0.],\n",
       "       [0., 1.],\n",
       "       [1., 0.]])"
      ]
     },
     "execution_count": 37,
     "metadata": {},
     "output_type": "execute_result"
    }
   ],
   "source": [
    "# one-hot encode y (y data is already label encoded)\n",
    "one_hot_y = to_categorical(y_NN)\n",
    "one_hot_y"
   ]
  },
  {
   "cell_type": "code",
   "execution_count": 38,
   "metadata": {
    "collapsed": true
   },
   "outputs": [],
   "source": [
    "#split data to train and test\n",
    "from sklearn.model_selection import train_test_split\n",
    "\n",
    "X_train_NN, X_test_NN, y_train_NN, y_test_NN = train_test_split(X_NN, one_hot_y, random_state=1)"
   ]
  },
  {
   "cell_type": "code",
   "execution_count": 39,
   "metadata": {},
   "outputs": [],
   "source": [
    "# create basic single hidden layer model to test (ignore future version warning)\n",
    "from keras.models import Sequential\n",
    "from keras.layers import Dense\n",
    "from keras.activations import softmax\n",
    "model_NN = Sequential()\n",
    "model_NN.add(Dense(units=51, activation='relu', input_dim=45))\n",
    "model_NN.add(Dense(units=51, activation='relu'))\n",
    "model_NN.add(Dense(units=51, activation='relu'))\n",
    "model_NN.add(Dense(units=2, activation=tf.nn.softmax))\n",
    "#model_NN.add(Activation(tf.nn.softmax))\n"
   ]
  },
  {
   "cell_type": "code",
   "execution_count": null,
   "metadata": {},
   "outputs": [],
   "source": [
    "\n"
   ]
  },
  {
   "cell_type": "code",
   "execution_count": null,
   "metadata": {},
   "outputs": [],
   "source": []
  },
  {
   "cell_type": "code",
   "execution_count": 40,
   "metadata": {},
   "outputs": [
    {
     "name": "stdout",
     "output_type": "stream",
     "text": [
      "_________________________________________________________________\n",
      "Layer (type)                 Output Shape              Param #   \n",
      "=================================================================\n",
      "dense_1 (Dense)              (None, 51)                2346      \n",
      "_________________________________________________________________\n",
      "dense_2 (Dense)              (None, 51)                2652      \n",
      "_________________________________________________________________\n",
      "dense_3 (Dense)              (None, 51)                2652      \n",
      "_________________________________________________________________\n",
      "dense_4 (Dense)              (None, 2)                 104       \n",
      "=================================================================\n",
      "Total params: 7,754\n",
      "Trainable params: 7,754\n",
      "Non-trainable params: 0\n",
      "_________________________________________________________________\n"
     ]
    }
   ],
   "source": [
    "\n",
    "model_NN.summary()"
   ]
  },
  {
   "cell_type": "code",
   "execution_count": 41,
   "metadata": {},
   "outputs": [],
   "source": [
    "# Compile the model\n",
    "model_NN.compile(optimizer='adam',\n",
    "              loss='binary_crossentropy',\n",
    "              metrics=['accuracy'])"
   ]
  },
  {
   "cell_type": "code",
   "execution_count": 42,
   "metadata": {},
   "outputs": [
    {
     "name": "stdout",
     "output_type": "stream",
     "text": [
      "Epoch 1/100\n",
      " - 1s - loss: 0.5784 - acc: 0.6995\n",
      "Epoch 2/100\n",
      " - 0s - loss: 0.5035 - acc: 0.7523\n",
      "Epoch 3/100\n",
      " - 0s - loss: 0.4491 - acc: 0.7853\n",
      "Epoch 4/100\n",
      " - 0s - loss: 0.3870 - acc: 0.8253\n",
      "Epoch 5/100\n",
      " - 0s - loss: 0.3224 - acc: 0.8691\n",
      "Epoch 6/100\n",
      " - 0s - loss: 0.2741 - acc: 0.8901\n",
      "Epoch 7/100\n",
      " - 0s - loss: 0.2340 - acc: 0.9053\n",
      "Epoch 8/100\n",
      " - 0s - loss: 0.1955 - acc: 0.9187\n",
      "Epoch 9/100\n",
      " - 0s - loss: 0.1743 - acc: 0.9267\n",
      "Epoch 10/100\n",
      " - 0s - loss: 0.1599 - acc: 0.9293\n",
      "Epoch 11/100\n",
      " - 0s - loss: 0.1556 - acc: 0.9328\n",
      "Epoch 12/100\n",
      " - 0s - loss: 0.1419 - acc: 0.9365\n",
      "Epoch 13/100\n",
      " - 0s - loss: 0.1432 - acc: 0.9376\n",
      "Epoch 14/100\n",
      " - 0s - loss: 0.1388 - acc: 0.9360\n",
      "Epoch 15/100\n",
      " - 0s - loss: 0.1285 - acc: 0.9389\n",
      "Epoch 16/100\n",
      " - 0s - loss: 0.1253 - acc: 0.9376\n",
      "Epoch 17/100\n",
      " - 0s - loss: 0.1310 - acc: 0.9379\n",
      "Epoch 18/100\n",
      " - 0s - loss: 0.1268 - acc: 0.9357\n",
      "Epoch 19/100\n",
      " - 0s - loss: 0.1280 - acc: 0.9371\n",
      "Epoch 20/100\n",
      " - 0s - loss: 0.1267 - acc: 0.9395\n",
      "Epoch 21/100\n",
      " - 0s - loss: 0.1271 - acc: 0.9397\n",
      "Epoch 22/100\n",
      " - 0s - loss: 0.1219 - acc: 0.9387\n",
      "Epoch 23/100\n",
      " - 0s - loss: 0.1232 - acc: 0.9355\n",
      "Epoch 24/100\n",
      " - 0s - loss: 0.1174 - acc: 0.9416\n",
      "Epoch 25/100\n",
      " - 0s - loss: 0.1161 - acc: 0.9421\n",
      "Epoch 26/100\n",
      " - 0s - loss: 0.1247 - acc: 0.9400\n",
      "Epoch 27/100\n",
      " - 0s - loss: 0.1216 - acc: 0.9371\n",
      "Epoch 28/100\n",
      " - 0s - loss: 0.1145 - acc: 0.9416\n",
      "Epoch 29/100\n",
      " - 0s - loss: 0.1196 - acc: 0.9349\n",
      "Epoch 30/100\n",
      " - 0s - loss: 0.1168 - acc: 0.9416\n",
      "Epoch 31/100\n",
      " - 0s - loss: 0.1182 - acc: 0.9357\n",
      "Epoch 32/100\n",
      " - 0s - loss: 0.1162 - acc: 0.9400\n",
      "Epoch 33/100\n",
      " - 0s - loss: 0.1158 - acc: 0.9357\n",
      "Epoch 34/100\n",
      " - 0s - loss: 0.1156 - acc: 0.9381\n",
      "Epoch 35/100\n",
      " - 0s - loss: 0.1138 - acc: 0.9400\n",
      "Epoch 36/100\n",
      " - 0s - loss: 0.1153 - acc: 0.9357\n",
      "Epoch 37/100\n",
      " - 0s - loss: 0.1141 - acc: 0.9347\n",
      "Epoch 38/100\n",
      " - 0s - loss: 0.1131 - acc: 0.9387\n",
      "Epoch 39/100\n",
      " - 0s - loss: 0.1166 - acc: 0.9379\n",
      "Epoch 40/100\n",
      " - 0s - loss: 0.1147 - acc: 0.9371\n",
      "Epoch 41/100\n",
      " - 0s - loss: 0.1129 - acc: 0.9389\n",
      "Epoch 42/100\n",
      " - 0s - loss: 0.1124 - acc: 0.9373\n",
      "Epoch 43/100\n",
      " - 0s - loss: 0.1131 - acc: 0.9376\n",
      "Epoch 44/100\n",
      " - 0s - loss: 0.1135 - acc: 0.9411\n",
      "Epoch 45/100\n",
      " - 0s - loss: 0.1187 - acc: 0.9387\n",
      "Epoch 46/100\n",
      " - 0s - loss: 0.1124 - acc: 0.9368\n",
      "Epoch 47/100\n",
      " - 0s - loss: 0.1105 - acc: 0.9381\n",
      "Epoch 48/100\n",
      " - 0s - loss: 0.1122 - acc: 0.9381\n",
      "Epoch 49/100\n",
      " - 0s - loss: 0.1082 - acc: 0.9397\n",
      "Epoch 50/100\n",
      " - 0s - loss: 0.1073 - acc: 0.9413\n",
      "Epoch 51/100\n",
      " - 0s - loss: 0.1078 - acc: 0.9400\n",
      "Epoch 52/100\n",
      " - 0s - loss: 0.1112 - acc: 0.9384\n",
      "Epoch 53/100\n",
      " - 0s - loss: 0.1096 - acc: 0.9413\n",
      "Epoch 54/100\n",
      " - 0s - loss: 0.1083 - acc: 0.9395\n",
      "Epoch 55/100\n",
      " - 0s - loss: 0.1074 - acc: 0.9384\n",
      "Epoch 56/100\n",
      " - 0s - loss: 0.1074 - acc: 0.9387\n",
      "Epoch 57/100\n",
      " - 0s - loss: 0.1092 - acc: 0.9397\n",
      "Epoch 58/100\n",
      " - 0s - loss: 0.1094 - acc: 0.9352\n",
      "Epoch 59/100\n",
      " - 0s - loss: 0.1058 - acc: 0.9413\n",
      "Epoch 60/100\n",
      " - 0s - loss: 0.1067 - acc: 0.9419\n",
      "Epoch 61/100\n",
      " - 0s - loss: 0.1046 - acc: 0.9389\n",
      "Epoch 62/100\n",
      " - 0s - loss: 0.1090 - acc: 0.9429\n",
      "Epoch 63/100\n",
      " - 0s - loss: 0.1063 - acc: 0.9437\n",
      "Epoch 64/100\n",
      " - 0s - loss: 0.1068 - acc: 0.9411\n",
      "Epoch 65/100\n",
      " - 0s - loss: 0.1083 - acc: 0.9403\n",
      "Epoch 66/100\n",
      " - 0s - loss: 0.1058 - acc: 0.9411\n",
      "Epoch 67/100\n",
      " - 0s - loss: 0.1043 - acc: 0.9413\n",
      "Epoch 68/100\n",
      " - 0s - loss: 0.1039 - acc: 0.9419\n",
      "Epoch 69/100\n",
      " - 0s - loss: 0.1031 - acc: 0.9395\n",
      "Epoch 70/100\n",
      " - 0s - loss: 0.1009 - acc: 0.9453\n",
      "Epoch 71/100\n",
      " - 0s - loss: 0.1042 - acc: 0.9379\n",
      "Epoch 72/100\n",
      " - 0s - loss: 0.1041 - acc: 0.9389\n",
      "Epoch 73/100\n",
      " - 0s - loss: 0.1050 - acc: 0.9400\n",
      "Epoch 74/100\n",
      " - 0s - loss: 0.1024 - acc: 0.9395\n",
      "Epoch 75/100\n",
      " - 0s - loss: 0.1051 - acc: 0.9368\n",
      "Epoch 76/100\n",
      " - 0s - loss: 0.1064 - acc: 0.9408\n",
      "Epoch 77/100\n",
      " - 0s - loss: 0.1034 - acc: 0.9400\n",
      "Epoch 78/100\n",
      " - 0s - loss: 0.1027 - acc: 0.9392\n",
      "Epoch 79/100\n",
      " - 0s - loss: 0.1011 - acc: 0.9397\n",
      "Epoch 80/100\n",
      " - 0s - loss: 0.1017 - acc: 0.9405\n",
      "Epoch 81/100\n",
      " - 0s - loss: 0.1022 - acc: 0.9400\n",
      "Epoch 82/100\n",
      " - 0s - loss: 0.0999 - acc: 0.9392\n",
      "Epoch 83/100\n",
      " - 0s - loss: 0.1009 - acc: 0.9379\n",
      "Epoch 84/100\n",
      " - 0s - loss: 0.1015 - acc: 0.9384\n",
      "Epoch 85/100\n",
      " - 0s - loss: 0.1023 - acc: 0.9395\n",
      "Epoch 86/100\n",
      " - 0s - loss: 0.0991 - acc: 0.9397\n",
      "Epoch 87/100\n",
      " - 0s - loss: 0.0988 - acc: 0.9427\n",
      "Epoch 88/100\n",
      " - 0s - loss: 0.1008 - acc: 0.9389\n",
      "Epoch 89/100\n",
      " - 0s - loss: 0.1001 - acc: 0.9395\n",
      "Epoch 90/100\n",
      " - 0s - loss: 0.0992 - acc: 0.9440\n",
      "Epoch 91/100\n",
      " - 0s - loss: 0.0990 - acc: 0.9405\n",
      "Epoch 92/100\n",
      " - 0s - loss: 0.0996 - acc: 0.9421\n",
      "Epoch 93/100\n",
      " - 0s - loss: 0.1004 - acc: 0.9400\n",
      "Epoch 94/100\n",
      " - 0s - loss: 0.0984 - acc: 0.9405\n",
      "Epoch 95/100\n",
      " - 0s - loss: 0.0989 - acc: 0.9397\n",
      "Epoch 96/100\n",
      " - 0s - loss: 0.0983 - acc: 0.9405\n",
      "Epoch 97/100\n",
      " - 0s - loss: 0.0986 - acc: 0.9437\n",
      "Epoch 98/100\n",
      " - 0s - loss: 0.0969 - acc: 0.9424\n",
      "Epoch 99/100\n",
      " - 0s - loss: 0.0978 - acc: 0.9421\n",
      "Epoch 100/100\n",
      " - 0s - loss: 0.0993 - acc: 0.9411\n"
     ]
    },
    {
     "data": {
      "text/plain": [
       "<keras.callbacks.History at 0x1ebc80c9f60>"
      ]
     },
     "execution_count": 42,
     "metadata": {},
     "output_type": "execute_result"
    }
   ],
   "source": [
    "# Fit the model to the training data\n",
    "model_NN.fit(\n",
    "    X_train_NN,\n",
    "    y_train_NN,\n",
    "    epochs=100,\n",
    "    shuffle=True,\n",
    "    verbose=2\n",
    ")"
   ]
  },
  {
   "cell_type": "code",
   "execution_count": 43,
   "metadata": {},
   "outputs": [
    {
     "name": "stdout",
     "output_type": "stream",
     "text": [
      "model - Loss: 0.1014716093301773, Accuracy: 0.9408\n"
     ]
    }
   ],
   "source": [
    "model_NN_loss, model_NN_accuracy = model_NN.evaluate(\n",
    "    X_test_NN, y_test_NN, verbose=2)\n",
    "print(f\"model - Loss: {model_NN_loss}, Accuracy: {model_NN_accuracy}\")"
   ]
  },
  {
   "cell_type": "code",
   "execution_count": 44,
   "metadata": {},
   "outputs": [
    {
     "name": "stdout",
     "output_type": "stream",
     "text": [
      "             precision    recall  f1-score   support\n",
      "\n",
      " no-default       0.95      0.97      0.96       901\n",
      "    default       0.93      0.85      0.89       349\n",
      "\n",
      "avg / total       0.94      0.94      0.94      1250\n",
      "\n"
     ]
    }
   ],
   "source": [
    "from sklearn.metrics import classification_report\n",
    "\n",
    "predictions_NN = model_NN.predict(X_test_NN).round()\n",
    "print(classification_report(y_test_NN, predictions_NN, target_names=[\"no-default\", \"default\"]))"
   ]
  },
  {
   "cell_type": "code",
   "execution_count": null,
   "metadata": {
    "collapsed": true
   },
   "outputs": [],
   "source": []
  },
  {
   "cell_type": "code",
   "execution_count": null,
   "metadata": {},
   "outputs": [],
   "source": [
    "\n"
   ]
  },
  {
   "cell_type": "code",
   "execution_count": 45,
   "metadata": {
    "collapsed": true
   },
   "outputs": [],
   "source": [
    "def decode(datum):\n",
    "    return np.argmax(datum)"
   ]
  },
  {
   "cell_type": "code",
   "execution_count": 46,
   "metadata": {
    "collapsed": true
   },
   "outputs": [],
   "source": [
    "output1 = []\n",
    "\n",
    "for i in range(y_test_NN.shape[0]):\n",
    "    datum = y_test_NN[i]\n",
    "    decoded_datum = decode(y_test_NN[i])\n",
    "    output1.append(decoded_datum)"
   ]
  },
  {
   "cell_type": "code",
   "execution_count": 47,
   "metadata": {
    "collapsed": true
   },
   "outputs": [],
   "source": [
    "\n",
    "decoded_y_test = output1"
   ]
  },
  {
   "cell_type": "code",
   "execution_count": 48,
   "metadata": {
    "collapsed": true
   },
   "outputs": [],
   "source": [
    "output2 = []\n",
    "\n",
    "for i in range(predictions_NN.shape[0]):\n",
    "    datum = predictions_NN[i]\n",
    "    decoded_datum = decode(predictions_NN[i])\n",
    "    output2.append(decoded_datum)"
   ]
  },
  {
   "cell_type": "code",
   "execution_count": 49,
   "metadata": {
    "collapsed": true
   },
   "outputs": [],
   "source": [
    "decoded_predictions = output2"
   ]
  },
  {
   "cell_type": "code",
   "execution_count": 50,
   "metadata": {
    "collapsed": true
   },
   "outputs": [],
   "source": [
    "#Create function to calculate Confusion Matrix\n",
    "import itertools\n",
    "from sklearn.metrics import confusion_matrix\n",
    "def plot_confusion_matrix(model_NN, normalize=False): # This function prints and plots the confusion matrix.\n",
    "    cm = confusion_matrix(decoded_y_test, model_NN, labels=[0, 1])\n",
    "    classes=[\"No Default\", \"Defaulted\"]\n",
    "    \n",
    "    cmap = plt.cm.Blues\n",
    "    title = \"Confusion Matrix\"\n",
    "    if normalize:\n",
    "        cm = cm.astype('float') / cm.sum(axis=1)[:, np.newaxis]\n",
    "        cm = np.around(cm, decimals=3)\n",
    "    plt.imshow(cm, interpolation='nearest', cmap=cmap)\n",
    "    plt.title(title)\n",
    "    plt.colorbar()\n",
    "    tick_marks = np.arange(len(classes))\n",
    "    plt.xticks(tick_marks, classes, rotation=45)\n",
    "    plt.yticks(tick_marks, classes)\n",
    "    thresh = cm.max() / 2.\n",
    "    for i, j in itertools.product(range(cm.shape[0]), range(cm.shape[1])):\n",
    "        plt.text(j, i, cm[i, j],\n",
    "                 horizontalalignment=\"center\",\n",
    "                 color=\"white\" if cm[i, j] > thresh else \"black\")\n",
    "    plt.ylim(-0.5,1.5)\n",
    "    plt.tight_layout()\n",
    "    plt.ylabel('True label')\n",
    "    plt.xlabel('Predicted label')\n",
    "    plt.show()"
   ]
  },
  {
   "cell_type": "code",
   "execution_count": null,
   "metadata": {},
   "outputs": [],
   "source": [
    "plt.figure(figsize=(6,6))\n",
    "plot_confusion_matrix(decoded_predictions, normalize=True)"
   ]
  },
  {
   "cell_type": "code",
   "execution_count": 51,
   "metadata": {
    "collapsed": true
   },
   "outputs": [],
   "source": [
    "sns.set('talk', 'whitegrid', 'dark', font_scale=1,rc={\"lines.linewidth\": 2, 'grid.linestyle': '--'})\n",
    "def plotAUC(truth, pred, lab):\n",
    "    fpr, tpr, _ = metrics.roc_curve(truth,pred)\n",
    "    roc_auc = metrics.auc(fpr, tpr)\n",
    "    lw = 2\n",
    "    c = (np.random.rand(), np.random.rand(), np.random.rand())\n",
    "    plt.plot(fpr, tpr, color= c,lw=lw, label= lab +'(AUC = %0.2f)' % roc_auc)\n",
    "    plt.plot([0, 1], [0, 1], color='navy', lw=lw, linestyle='--')\n",
    "    plt.xlim([0.0, 1.0])\n",
    "    plt.ylim([0.0, 1.0])\n",
    "    plt.xlabel('False Positive Rate')\n",
    "    plt.ylabel('True Positive Rate')\n",
    "    plt.title('ROC curve') #Receiver Operating Characteristic \n",
    "    plt.legend(loc=\"lower right\")\n",
    "    plt.show()"
   ]
  },
  {
   "cell_type": "code",
   "execution_count": null,
   "metadata": {
    "collapsed": true
   },
   "outputs": [],
   "source": []
  },
  {
   "cell_type": "code",
   "execution_count": 52,
   "metadata": {},
   "outputs": [
    {
     "data": {
      "image/png": "[encoded data removed]",
      "text/plain": [
       "<matplotlib.figure.Figure at 0x1ebc89f3be0>"
      ]
     },
     "metadata": {},
     "output_type": "display_data"
    }
   ],
   "source": [
    "plotAUC(decoded_y_test,decoded_predictions, 'NN')\n",
    "\n",
    "plt.show()"
   ]
  },
  {
   "cell_type": "code",
   "execution_count": null,
   "metadata": {
    "collapsed": true
   },
   "outputs": [],
   "source": []
  },
  {
   "cell_type": "code",
   "execution_count": null,
   "metadata": {
    "collapsed": true
   },
   "outputs": [],
   "source": []
  },
  {
   "cell_type": "code",
   "execution_count": null,
   "metadata": {
    "collapsed": true
   },
   "outputs": [],
   "source": []
  },
  {
   "cell_type": "code",
   "execution_count": null,
   "metadata": {
    "collapsed": true
   },
   "outputs": [],
   "source": []
  },
  {
   "cell_type": "code",
   "execution_count": null,
   "metadata": {
    "collapsed": true
   },
   "outputs": [],
   "source": []
  },
  {
   "cell_type": "code",
   "execution_count": null,
   "metadata": {
    "collapsed": true
   },
   "outputs": [],
   "source": []
  },
  {
   "cell_type": "code",
   "execution_count": null,
   "metadata": {
    "collapsed": true
   },
   "outputs": [],
   "source": []
  },
  {
   "cell_type": "code",
   "execution_count": null,
   "metadata": {
    "collapsed": true
   },
   "outputs": [],
   "source": []
  },
  {
   "cell_type": "code",
   "execution_count": null,
   "metadata": {
    "collapsed": true
   },
   "outputs": [],
   "source": []
  },
  {
   "cell_type": "code",
   "execution_count": null,
   "metadata": {
    "collapsed": true
   },
   "outputs": [],
   "source": []
  },
  {
   "cell_type": "code",
   "execution_count": null,
   "metadata": {
    "collapsed": true
   },
   "outputs": [],
   "source": []
  },
  {
   "cell_type": "code",
   "execution_count": null,
   "metadata": {
    "collapsed": true
   },
   "outputs": [],
   "source": []
  },
  {
   "cell_type": "code",
   "execution_count": null,
   "metadata": {
    "collapsed": true
   },
   "outputs": [],
   "source": []
  },
  {
   "cell_type": "markdown",
   "metadata": {},
   "source": [
    "#######  Precision,recall,F1score for all models ####\n"
   ]
  },
  {
   "cell_type": "code",
   "execution_count": 53,
   "metadata": {},
   "outputs": [
    {
     "name": "stdout",
     "output_type": "stream",
     "text": [
      "KNN              precision    recall  f1-score   support\n",
      "\n",
      "          0       0.96      0.94      0.95       885\n",
      "          1       0.87      0.90      0.89       365\n",
      "\n",
      "avg / total       0.93      0.93      0.93      1250\n",
      "\n",
      "model KNN - Accuracy : 0.886\n",
      "SVM              precision    recall  f1-score   support\n",
      "\n",
      "          0       0.95      0.97      0.96       879\n",
      "          1       0.92      0.87      0.89       371\n",
      "\n",
      "avg / total       0.94      0.94      0.94      1250\n",
      "\n",
      "model SVM - Accuracy: 0.939\n",
      "NN              precision    recall  f1-score   support\n",
      "\n",
      "          0       0.95      0.97      0.96       901\n",
      "          1       0.93      0.85      0.89       349\n",
      "\n",
      "avg / total       0.94      0.94      0.94      1250\n",
      "\n",
      "model NN - Accuracy: 0.9408\n"
     ]
    }
   ],
   "source": [
    "from sklearn.metrics import classification_report\n",
    "print(\"KNN\",classification_report(y_test, y_prob_KNN, target_names=None))\n",
    "print('model KNN - Accuracy : %.3f' % KNN_Acc)\n",
    "print(\"SVM\",classification_report(y_test_SVM, predictions_SVM, target_names=None))\n",
    "print('model SVM - Accuracy: %.3f' % model_SVM_2.score(X_test_SVM, y_test_SVM))\n",
    "\n",
    "print(\"NN\",classification_report(y_test_NN, predictions_NN, target_names=None))\n",
    "print(f\"model NN - Accuracy: {model_NN_accuracy}\")"
   ]
  },
  {
   "cell_type": "code",
   "execution_count": null,
   "metadata": {
    "collapsed": true
   },
   "outputs": [],
   "source": []
  },
  {
   "cell_type": "code",
   "execution_count": null,
   "metadata": {
    "collapsed": true
   },
   "outputs": [],
   "source": []
  },
  {
   "cell_type": "code",
   "execution_count": null,
   "metadata": {
    "collapsed": true
   },
   "outputs": [],
   "source": []
  },
  {
   "cell_type": "code",
   "execution_count": null,
   "metadata": {
    "collapsed": true
   },
   "outputs": [],
   "source": []
  },
  {
   "cell_type": "markdown",
   "metadata": {},
   "source": [
    "######Confusion Matrix for all models#####\n"
   ]
  },
  {
   "cell_type": "code",
   "execution_count": 58,
   "metadata": {},
   "outputs": [
    {
     "data": {
      "image/png": "[encoded data removed]",
      "text/plain": [
       "<matplotlib.figure.Figure at 0x1ebc9c4bdd8>"
      ]
     },
     "metadata": {},
     "output_type": "display_data"
    },
    {
     "name": "stdout",
     "output_type": "stream",
     "text": [
      "model KNN - Accuracy : 0.886\n"
     ]
    }
   ],
   "source": [
    "#KNN\n",
    "plt.figure(figsize=(6,6))\n",
    "plot_confusion_matrix(y_pred_KNN, normalize=True)\n",
    "print('model KNN - Accuracy : %.3f' % KNN_Acc)\n",
    "\n"
   ]
  },
  {
   "cell_type": "code",
   "execution_count": 57,
   "metadata": {},
   "outputs": [
    {
     "data": {
      "image/png": "[encoded data removed]",
      "text/plain": [
       "<matplotlib.figure.Figure at 0x1ebc9ba2550>"
      ]
     },
     "metadata": {},
     "output_type": "display_data"
    },
    {
     "name": "stdout",
     "output_type": "stream",
     "text": [
      "model SVM - Accuracy: 0.939\n"
     ]
    }
   ],
   "source": [
    "###SVM\n",
    "plt.figure(figsize=(6,6))\n",
    "plot_confusion_matrix(predictions_SVM, normalize=True)\n",
    "print('model SVM - Accuracy: %.3f' % model_SVM_2.score(X_test_SVM, y_test_SVM))"
   ]
  },
  {
   "cell_type": "code",
   "execution_count": 56,
   "metadata": {},
   "outputs": [
    {
     "data": {
      "image/png": "[encoded data removed]",
      "text/plain": [
       "<matplotlib.figure.Figure at 0x1ebc9b076a0>"
      ]
     },
     "metadata": {},
     "output_type": "display_data"
    },
    {
     "name": "stdout",
     "output_type": "stream",
     "text": [
      "model NN - Accuracy: 0.9408\n"
     ]
    }
   ],
   "source": [
    "###NN\n",
    "plt.figure(figsize=(6,6))\n",
    "plot_confusion_matrix(decoded_predictions, normalize=True)\n",
    "print(f\"model NN - Accuracy: {model_NN_accuracy}\")"
   ]
  },
  {
   "cell_type": "code",
   "execution_count": null,
   "metadata": {
    "collapsed": true
   },
   "outputs": [],
   "source": []
  },
  {
   "cell_type": "code",
   "execution_count": null,
   "metadata": {
    "collapsed": true
   },
   "outputs": [],
   "source": []
  },
  {
   "cell_type": "code",
   "execution_count": null,
   "metadata": {
    "collapsed": true
   },
   "outputs": [],
   "source": []
  },
  {
   "cell_type": "code",
   "execution_count": null,
   "metadata": {
    "collapsed": true
   },
   "outputs": [],
   "source": []
  },
  {
   "cell_type": "code",
   "execution_count": null,
   "metadata": {
    "collapsed": true
   },
   "outputs": [],
   "source": []
  },
  {
   "cell_type": "code",
   "execution_count": null,
   "metadata": {
    "collapsed": true
   },
   "outputs": [],
   "source": []
  },
  {
   "cell_type": "code",
   "execution_count": null,
   "metadata": {
    "collapsed": true
   },
   "outputs": [],
   "source": []
  },
  {
   "cell_type": "code",
   "execution_count": null,
   "metadata": {
    "collapsed": true
   },
   "outputs": [],
   "source": []
  },
  {
   "cell_type": "markdown",
   "metadata": {},
   "source": [
    "#####ROC CURVES###"
   ]
  },
  {
   "cell_type": "code",
   "execution_count": 61,
   "metadata": {},
   "outputs": [
    {
     "data": {
      "image/png": "[encoded data removed]",
      "text/plain": [
       "<matplotlib.figure.Figure at 0x1ebc89f5ba8>"
      ]
     },
     "metadata": {},
     "output_type": "display_data"
    },
    {
     "name": "stdout",
     "output_type": "stream",
     "text": [
      "model KNN - Accuracy : 0.886\n"
     ]
    }
   ],
   "source": [
    "##KNN\n",
    "plotAUC(y_test,y_prob_KNN,'K Nearest Neighbors')\n",
    "print('model KNN - Accuracy : %.3f' % KNN_Acc)\n"
   ]
  },
  {
   "cell_type": "code",
   "execution_count": 62,
   "metadata": {},
   "outputs": [
    {
     "data": {
      "image/png": "[encoded data removed]",
      "text/plain": [
       "<matplotlib.figure.Figure at 0x1ebc8a914e0>"
      ]
     },
     "metadata": {},
     "output_type": "display_data"
    },
    {
     "name": "stdout",
     "output_type": "stream",
     "text": [
      "model SVM - Accuracy: 0.939\n"
     ]
    }
   ],
   "source": [
    "###SVM\n",
    "plotAUC(y_test_SVM,predictprob_SVM, 'SVM')\n",
    "print('model SVM - Accuracy: %.3f' % model_SVM_2.score(X_test_SVM, y_test_SVM))"
   ]
  },
  {
   "cell_type": "code",
   "execution_count": 74,
   "metadata": {},
   "outputs": [
    {
     "data": {
      "image/png": "[encoded data removed]",
      "text/plain": [
       "<matplotlib.figure.Figure at 0x1ebc8976518>"
      ]
     },
     "metadata": {},
     "output_type": "display_data"
    },
    {
     "name": "stdout",
     "output_type": "stream",
     "text": [
      "model NN - Accuracy: 0.9408\n"
     ]
    }
   ],
   "source": [
    "###NN\n",
    "plotAUC(decoded_y_test,decoded_predictions, 'NN')\n",
    "print(f\"model NN - Accuracy: {model_NN_accuracy}\")"
   ]
  },
  {
   "cell_type": "code",
   "execution_count": null,
   "metadata": {
    "collapsed": true
   },
   "outputs": [],
   "source": []
  }
 ],
 "metadata": {
  "kernelspec": {
   "display_name": "Python 3",
   "language": "python",
   "name": "python3"
  },
  "language_info": {
   "codemirror_mode": {
    "name": "ipython",
    "version": 3
   },
   "file_extension": ".py",
   "mimetype": "text/x-python",
   "name": "python",
   "nbconvert_exporter": "python",
   "pygments_lexer": "ipython3",
   "version": "3.6.5"
  }
 },
 "nbformat": 4,
 "nbformat_minor": 2
}
