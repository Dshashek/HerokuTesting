{
 "cells": [
  {
   "cell_type": "code",
   "execution_count": 1,
   "metadata": {},
   "outputs": [
    {
     "data": {
      "text/plain": [
       "Index(['Customer_ID', 'Num_CC', 'Dependents', 'Status_Checking_Acc',\n",
       "       'Credit_History', 'Purposre_Credit_Taken', 'Savings_Acc',\n",
       "       'Years_At_Present_Employment', 'Marital_Status_Gender',\n",
       "       'Other_Debtors_Guarantors', 'Other_Inst_Plans ', 'Housing', 'Job',\n",
       "       'Telephone', 'Foreign_Worker', 'Duration_binned',\n",
       "       'Credit_amount_binned', 'Age_binned', 'Default_On_Payment'],\n",
       "      dtype='object')"
      ]
     },
     "execution_count": 1,
     "metadata": {},
     "output_type": "execute_result"
    }
   ],
   "source": [
    "import os\n",
    "import pandas as pd\n",
    "import numpy as np\n",
    "from sklearn.preprocessing import LabelEncoder\n",
    "from tensorflow.keras.utils import to_categorical\n",
    "\n",
    "# load NN_dataset\n",
    "filepath = \"NN_dataset.csv\"\n",
    "NN_data = pd.read_csv(filepath)\n",
    "NN_data.columns"
   ]
  },
  {
   "cell_type": "code",
   "execution_count": 2,
   "metadata": {},
   "outputs": [],
   "source": [
    "# set Customer_ID as index\n",
    "NN_data.set_index('Customer_ID',inplace=True)"
   ]
  },
  {
   "cell_type": "code",
   "execution_count": 3,
   "metadata": {},
   "outputs": [
    {
     "data": {
      "text/plain": [
       "Num_CC                          int64\n",
       "Dependents                      int64\n",
       "Status_Checking_Acc            object\n",
       "Credit_History                 object\n",
       "Purposre_Credit_Taken          object\n",
       "Savings_Acc                    object\n",
       "Years_At_Present_Employment    object\n",
       "Marital_Status_Gender          object\n",
       "Other_Debtors_Guarantors       object\n",
       "Other_Inst_Plans               object\n",
       "Housing                        object\n",
       "Job                            object\n",
       "Telephone                      object\n",
       "Foreign_Worker                 object\n",
       "Duration_binned                object\n",
       "Credit_amount_binned           object\n",
       "Age_binned                     object\n",
       "Default_On_Payment              int64\n",
       "dtype: object"
      ]
     },
     "execution_count": 3,
     "metadata": {},
     "output_type": "execute_result"
    }
   ],
   "source": [
    "NN_data.dtypes"
   ]
  },
  {
   "cell_type": "code",
   "execution_count": 4,
   "metadata": {},
   "outputs": [],
   "source": [
    "NN_data['Num_CC'] = NN_data['Num_CC'].astype(str)\n",
    "NN_data['Dependents'] = NN_data['Dependents'].astype(str)"
   ]
  },
  {
   "cell_type": "code",
   "execution_count": 5,
   "metadata": {},
   "outputs": [
    {
     "data": {
      "text/plain": [
       "Num_CC                         object\n",
       "Dependents                     object\n",
       "Status_Checking_Acc            object\n",
       "Credit_History                 object\n",
       "Purposre_Credit_Taken          object\n",
       "Savings_Acc                    object\n",
       "Years_At_Present_Employment    object\n",
       "Marital_Status_Gender          object\n",
       "Other_Debtors_Guarantors       object\n",
       "Other_Inst_Plans               object\n",
       "Housing                        object\n",
       "Job                            object\n",
       "Telephone                      object\n",
       "Foreign_Worker                 object\n",
       "Duration_binned                object\n",
       "Credit_amount_binned           object\n",
       "Age_binned                     object\n",
       "Default_On_Payment              int64\n",
       "dtype: object"
      ]
     },
     "execution_count": 5,
     "metadata": {},
     "output_type": "execute_result"
    }
   ],
   "source": [
    "NN_data.dtypes"
   ]
  },
  {
   "cell_type": "code",
   "execution_count": 6,
   "metadata": {},
   "outputs": [],
   "source": [
    "NN_data = NN_data.drop(columns=['Num_CC', 'Dependents', 'Status_Checking_Acc', 'Credit_History', 'Savings_Acc', 'Marital_Status_Gender', 'Other_Inst_Plans ', 'Job'])"
   ]
  },
  {
   "cell_type": "code",
   "execution_count": 7,
   "metadata": {
    "scrolled": true
   },
   "outputs": [
    {
     "data": {
      "text/plain": [
       "Purposre_Credit_Taken          object\n",
       "Years_At_Present_Employment    object\n",
       "Other_Debtors_Guarantors       object\n",
       "Housing                        object\n",
       "Telephone                      object\n",
       "Foreign_Worker                 object\n",
       "Duration_binned                object\n",
       "Credit_amount_binned           object\n",
       "Age_binned                     object\n",
       "Default_On_Payment              int64\n",
       "dtype: object"
      ]
     },
     "execution_count": 7,
     "metadata": {},
     "output_type": "execute_result"
    }
   ],
   "source": [
    "NN_data.dtypes"
   ]
  },
  {
   "cell_type": "code",
   "execution_count": 8,
   "metadata": {},
   "outputs": [
    {
     "data": {
      "text/plain": [
       "Index(['Purposre_Credit_Taken', 'Years_At_Present_Employment',\n",
       "       'Other_Debtors_Guarantors', 'Housing', 'Telephone', 'Foreign_Worker',\n",
       "       'Duration_binned', 'Credit_amount_binned', 'Age_binned',\n",
       "       'Default_On_Payment'],\n",
       "      dtype='object')"
      ]
     },
     "execution_count": 8,
     "metadata": {},
     "output_type": "execute_result"
    }
   ],
   "source": [
    "NN_data.columns"
   ]
  },
  {
   "cell_type": "code",
   "execution_count": 9,
   "metadata": {},
   "outputs": [
    {
     "data": {
      "text/html": [
       "<div>\n",
       "<style scoped>\n",
       "    .dataframe tbody tr th:only-of-type {\n",
       "        vertical-align: middle;\n",
       "    }\n",
       "\n",
       "    .dataframe tbody tr th {\n",
       "        vertical-align: top;\n",
       "    }\n",
       "\n",
       "    .dataframe thead th {\n",
       "        text-align: right;\n",
       "    }\n",
       "</style>\n",
       "<table border=\"1\" class=\"dataframe\">\n",
       "  <thead>\n",
       "    <tr style=\"text-align: right;\">\n",
       "      <th></th>\n",
       "      <th>Purposre_Credit_Taken</th>\n",
       "      <th>Years_At_Present_Employment</th>\n",
       "      <th>Other_Debtors_Guarantors</th>\n",
       "      <th>Housing</th>\n",
       "      <th>Telephone</th>\n",
       "      <th>Foreign_Worker</th>\n",
       "      <th>Duration_binned</th>\n",
       "      <th>Credit_amount_binned</th>\n",
       "      <th>Age_binned</th>\n",
       "      <th>Default_On_Payment</th>\n",
       "    </tr>\n",
       "    <tr>\n",
       "      <th>Customer_ID</th>\n",
       "      <th></th>\n",
       "      <th></th>\n",
       "      <th></th>\n",
       "      <th></th>\n",
       "      <th></th>\n",
       "      <th></th>\n",
       "      <th></th>\n",
       "      <th></th>\n",
       "      <th></th>\n",
       "      <th></th>\n",
       "    </tr>\n",
       "  </thead>\n",
       "  <tbody>\n",
       "    <tr>\n",
       "      <td>100001</td>\n",
       "      <td>A43</td>\n",
       "      <td>A75</td>\n",
       "      <td>A101</td>\n",
       "      <td>A152</td>\n",
       "      <td>A192</td>\n",
       "      <td>A201</td>\n",
       "      <td>B10</td>\n",
       "      <td>B20</td>\n",
       "      <td>B35</td>\n",
       "      <td>0</td>\n",
       "    </tr>\n",
       "    <tr>\n",
       "      <td>100002</td>\n",
       "      <td>A43</td>\n",
       "      <td>A73</td>\n",
       "      <td>A101</td>\n",
       "      <td>A152</td>\n",
       "      <td>A191</td>\n",
       "      <td>A201</td>\n",
       "      <td>B14</td>\n",
       "      <td>B22</td>\n",
       "      <td>B30</td>\n",
       "      <td>0</td>\n",
       "    </tr>\n",
       "    <tr>\n",
       "      <td>100003</td>\n",
       "      <td>A46</td>\n",
       "      <td>A74</td>\n",
       "      <td>A101</td>\n",
       "      <td>A152</td>\n",
       "      <td>A191</td>\n",
       "      <td>A201</td>\n",
       "      <td>B11</td>\n",
       "      <td>B20</td>\n",
       "      <td>B33</td>\n",
       "      <td>0</td>\n",
       "    </tr>\n",
       "    <tr>\n",
       "      <td>100004</td>\n",
       "      <td>A42</td>\n",
       "      <td>A74</td>\n",
       "      <td>A103</td>\n",
       "      <td>A153</td>\n",
       "      <td>A191</td>\n",
       "      <td>A201</td>\n",
       "      <td>B13</td>\n",
       "      <td>B23</td>\n",
       "      <td>B33</td>\n",
       "      <td>0</td>\n",
       "    </tr>\n",
       "    <tr>\n",
       "      <td>100005</td>\n",
       "      <td>A40</td>\n",
       "      <td>A73</td>\n",
       "      <td>A101</td>\n",
       "      <td>A153</td>\n",
       "      <td>A191</td>\n",
       "      <td>A201</td>\n",
       "      <td>B12</td>\n",
       "      <td>B21</td>\n",
       "      <td>B33</td>\n",
       "      <td>1</td>\n",
       "    </tr>\n",
       "  </tbody>\n",
       "</table>\n",
       "</div>"
      ],
      "text/plain": [
       "            Purposre_Credit_Taken Years_At_Present_Employment  \\\n",
       "Customer_ID                                                     \n",
       "100001                        A43                         A75   \n",
       "100002                        A43                         A73   \n",
       "100003                        A46                         A74   \n",
       "100004                        A42                         A74   \n",
       "100005                        A40                         A73   \n",
       "\n",
       "            Other_Debtors_Guarantors Housing Telephone Foreign_Worker  \\\n",
       "Customer_ID                                                             \n",
       "100001                          A101    A152      A192           A201   \n",
       "100002                          A101    A152      A191           A201   \n",
       "100003                          A101    A152      A191           A201   \n",
       "100004                          A103    A153      A191           A201   \n",
       "100005                          A101    A153      A191           A201   \n",
       "\n",
       "            Duration_binned Credit_amount_binned Age_binned  \\\n",
       "Customer_ID                                                   \n",
       "100001                  B10                  B20        B35   \n",
       "100002                  B14                  B22        B30   \n",
       "100003                  B11                  B20        B33   \n",
       "100004                  B13                  B23        B33   \n",
       "100005                  B12                  B21        B33   \n",
       "\n",
       "             Default_On_Payment  \n",
       "Customer_ID                      \n",
       "100001                        0  \n",
       "100002                        0  \n",
       "100003                        0  \n",
       "100004                        0  \n",
       "100005                        1  "
      ]
     },
     "execution_count": 9,
     "metadata": {},
     "output_type": "execute_result"
    }
   ],
   "source": [
    "NN_data.head()"
   ]
  },
  {
   "cell_type": "code",
   "execution_count": 10,
   "metadata": {},
   "outputs": [],
   "source": [
    "NN_data = pd.get_dummies(NN_data)"
   ]
  },
  {
   "cell_type": "code",
   "execution_count": 11,
   "metadata": {},
   "outputs": [
    {
     "data": {
      "text/html": [
       "<div>\n",
       "<style scoped>\n",
       "    .dataframe tbody tr th:only-of-type {\n",
       "        vertical-align: middle;\n",
       "    }\n",
       "\n",
       "    .dataframe tbody tr th {\n",
       "        vertical-align: top;\n",
       "    }\n",
       "\n",
       "    .dataframe thead th {\n",
       "        text-align: right;\n",
       "    }\n",
       "</style>\n",
       "<table border=\"1\" class=\"dataframe\">\n",
       "  <thead>\n",
       "    <tr style=\"text-align: right;\">\n",
       "      <th></th>\n",
       "      <th>Default_On_Payment</th>\n",
       "      <th>Purposre_Credit_Taken_A40</th>\n",
       "      <th>Purposre_Credit_Taken_A41</th>\n",
       "      <th>Purposre_Credit_Taken_A410</th>\n",
       "      <th>Purposre_Credit_Taken_A42</th>\n",
       "      <th>Purposre_Credit_Taken_A43</th>\n",
       "      <th>Purposre_Credit_Taken_A44</th>\n",
       "      <th>Purposre_Credit_Taken_A45</th>\n",
       "      <th>Purposre_Credit_Taken_A46</th>\n",
       "      <th>Purposre_Credit_Taken_A48</th>\n",
       "      <th>...</th>\n",
       "      <th>Credit_amount_binned_B24</th>\n",
       "      <th>Credit_amount_binned_B25</th>\n",
       "      <th>Credit_amount_binned_B26</th>\n",
       "      <th>Credit_amount_binned_B27</th>\n",
       "      <th>Age_binned_B30</th>\n",
       "      <th>Age_binned_B31</th>\n",
       "      <th>Age_binned_B32</th>\n",
       "      <th>Age_binned_B33</th>\n",
       "      <th>Age_binned_B34</th>\n",
       "      <th>Age_binned_B35</th>\n",
       "    </tr>\n",
       "    <tr>\n",
       "      <th>Customer_ID</th>\n",
       "      <th></th>\n",
       "      <th></th>\n",
       "      <th></th>\n",
       "      <th></th>\n",
       "      <th></th>\n",
       "      <th></th>\n",
       "      <th></th>\n",
       "      <th></th>\n",
       "      <th></th>\n",
       "      <th></th>\n",
       "      <th></th>\n",
       "      <th></th>\n",
       "      <th></th>\n",
       "      <th></th>\n",
       "      <th></th>\n",
       "      <th></th>\n",
       "      <th></th>\n",
       "      <th></th>\n",
       "      <th></th>\n",
       "      <th></th>\n",
       "      <th></th>\n",
       "    </tr>\n",
       "  </thead>\n",
       "  <tbody>\n",
       "    <tr>\n",
       "      <td>100001</td>\n",
       "      <td>0</td>\n",
       "      <td>0</td>\n",
       "      <td>0</td>\n",
       "      <td>0</td>\n",
       "      <td>0</td>\n",
       "      <td>1</td>\n",
       "      <td>0</td>\n",
       "      <td>0</td>\n",
       "      <td>0</td>\n",
       "      <td>0</td>\n",
       "      <td>...</td>\n",
       "      <td>0</td>\n",
       "      <td>0</td>\n",
       "      <td>0</td>\n",
       "      <td>0</td>\n",
       "      <td>0</td>\n",
       "      <td>0</td>\n",
       "      <td>0</td>\n",
       "      <td>0</td>\n",
       "      <td>0</td>\n",
       "      <td>1</td>\n",
       "    </tr>\n",
       "    <tr>\n",
       "      <td>100002</td>\n",
       "      <td>0</td>\n",
       "      <td>0</td>\n",
       "      <td>0</td>\n",
       "      <td>0</td>\n",
       "      <td>0</td>\n",
       "      <td>1</td>\n",
       "      <td>0</td>\n",
       "      <td>0</td>\n",
       "      <td>0</td>\n",
       "      <td>0</td>\n",
       "      <td>...</td>\n",
       "      <td>0</td>\n",
       "      <td>0</td>\n",
       "      <td>0</td>\n",
       "      <td>0</td>\n",
       "      <td>1</td>\n",
       "      <td>0</td>\n",
       "      <td>0</td>\n",
       "      <td>0</td>\n",
       "      <td>0</td>\n",
       "      <td>0</td>\n",
       "    </tr>\n",
       "    <tr>\n",
       "      <td>100003</td>\n",
       "      <td>0</td>\n",
       "      <td>0</td>\n",
       "      <td>0</td>\n",
       "      <td>0</td>\n",
       "      <td>0</td>\n",
       "      <td>0</td>\n",
       "      <td>0</td>\n",
       "      <td>0</td>\n",
       "      <td>1</td>\n",
       "      <td>0</td>\n",
       "      <td>...</td>\n",
       "      <td>0</td>\n",
       "      <td>0</td>\n",
       "      <td>0</td>\n",
       "      <td>0</td>\n",
       "      <td>0</td>\n",
       "      <td>0</td>\n",
       "      <td>0</td>\n",
       "      <td>1</td>\n",
       "      <td>0</td>\n",
       "      <td>0</td>\n",
       "    </tr>\n",
       "    <tr>\n",
       "      <td>100004</td>\n",
       "      <td>0</td>\n",
       "      <td>0</td>\n",
       "      <td>0</td>\n",
       "      <td>0</td>\n",
       "      <td>1</td>\n",
       "      <td>0</td>\n",
       "      <td>0</td>\n",
       "      <td>0</td>\n",
       "      <td>0</td>\n",
       "      <td>0</td>\n",
       "      <td>...</td>\n",
       "      <td>0</td>\n",
       "      <td>0</td>\n",
       "      <td>0</td>\n",
       "      <td>0</td>\n",
       "      <td>0</td>\n",
       "      <td>0</td>\n",
       "      <td>0</td>\n",
       "      <td>1</td>\n",
       "      <td>0</td>\n",
       "      <td>0</td>\n",
       "    </tr>\n",
       "    <tr>\n",
       "      <td>100005</td>\n",
       "      <td>1</td>\n",
       "      <td>1</td>\n",
       "      <td>0</td>\n",
       "      <td>0</td>\n",
       "      <td>0</td>\n",
       "      <td>0</td>\n",
       "      <td>0</td>\n",
       "      <td>0</td>\n",
       "      <td>0</td>\n",
       "      <td>0</td>\n",
       "      <td>...</td>\n",
       "      <td>0</td>\n",
       "      <td>0</td>\n",
       "      <td>0</td>\n",
       "      <td>0</td>\n",
       "      <td>0</td>\n",
       "      <td>0</td>\n",
       "      <td>0</td>\n",
       "      <td>1</td>\n",
       "      <td>0</td>\n",
       "      <td>0</td>\n",
       "    </tr>\n",
       "    <tr>\n",
       "      <td>...</td>\n",
       "      <td>...</td>\n",
       "      <td>...</td>\n",
       "      <td>...</td>\n",
       "      <td>...</td>\n",
       "      <td>...</td>\n",
       "      <td>...</td>\n",
       "      <td>...</td>\n",
       "      <td>...</td>\n",
       "      <td>...</td>\n",
       "      <td>...</td>\n",
       "      <td>...</td>\n",
       "      <td>...</td>\n",
       "      <td>...</td>\n",
       "      <td>...</td>\n",
       "      <td>...</td>\n",
       "      <td>...</td>\n",
       "      <td>...</td>\n",
       "      <td>...</td>\n",
       "      <td>...</td>\n",
       "      <td>...</td>\n",
       "      <td>...</td>\n",
       "    </tr>\n",
       "    <tr>\n",
       "      <td>104996</td>\n",
       "      <td>0</td>\n",
       "      <td>0</td>\n",
       "      <td>0</td>\n",
       "      <td>0</td>\n",
       "      <td>1</td>\n",
       "      <td>0</td>\n",
       "      <td>0</td>\n",
       "      <td>0</td>\n",
       "      <td>0</td>\n",
       "      <td>0</td>\n",
       "      <td>...</td>\n",
       "      <td>0</td>\n",
       "      <td>0</td>\n",
       "      <td>0</td>\n",
       "      <td>0</td>\n",
       "      <td>0</td>\n",
       "      <td>1</td>\n",
       "      <td>0</td>\n",
       "      <td>0</td>\n",
       "      <td>0</td>\n",
       "      <td>0</td>\n",
       "    </tr>\n",
       "    <tr>\n",
       "      <td>104997</td>\n",
       "      <td>0</td>\n",
       "      <td>0</td>\n",
       "      <td>1</td>\n",
       "      <td>0</td>\n",
       "      <td>0</td>\n",
       "      <td>0</td>\n",
       "      <td>0</td>\n",
       "      <td>0</td>\n",
       "      <td>0</td>\n",
       "      <td>0</td>\n",
       "      <td>...</td>\n",
       "      <td>0</td>\n",
       "      <td>0</td>\n",
       "      <td>0</td>\n",
       "      <td>0</td>\n",
       "      <td>0</td>\n",
       "      <td>0</td>\n",
       "      <td>1</td>\n",
       "      <td>0</td>\n",
       "      <td>0</td>\n",
       "      <td>0</td>\n",
       "    </tr>\n",
       "    <tr>\n",
       "      <td>104998</td>\n",
       "      <td>0</td>\n",
       "      <td>0</td>\n",
       "      <td>0</td>\n",
       "      <td>0</td>\n",
       "      <td>0</td>\n",
       "      <td>1</td>\n",
       "      <td>0</td>\n",
       "      <td>0</td>\n",
       "      <td>0</td>\n",
       "      <td>0</td>\n",
       "      <td>...</td>\n",
       "      <td>0</td>\n",
       "      <td>0</td>\n",
       "      <td>0</td>\n",
       "      <td>0</td>\n",
       "      <td>0</td>\n",
       "      <td>0</td>\n",
       "      <td>1</td>\n",
       "      <td>0</td>\n",
       "      <td>0</td>\n",
       "      <td>0</td>\n",
       "    </tr>\n",
       "    <tr>\n",
       "      <td>104999</td>\n",
       "      <td>1</td>\n",
       "      <td>0</td>\n",
       "      <td>0</td>\n",
       "      <td>0</td>\n",
       "      <td>0</td>\n",
       "      <td>1</td>\n",
       "      <td>0</td>\n",
       "      <td>0</td>\n",
       "      <td>0</td>\n",
       "      <td>0</td>\n",
       "      <td>...</td>\n",
       "      <td>0</td>\n",
       "      <td>0</td>\n",
       "      <td>0</td>\n",
       "      <td>0</td>\n",
       "      <td>1</td>\n",
       "      <td>0</td>\n",
       "      <td>0</td>\n",
       "      <td>0</td>\n",
       "      <td>0</td>\n",
       "      <td>0</td>\n",
       "    </tr>\n",
       "    <tr>\n",
       "      <td>105000</td>\n",
       "      <td>0</td>\n",
       "      <td>0</td>\n",
       "      <td>1</td>\n",
       "      <td>0</td>\n",
       "      <td>0</td>\n",
       "      <td>0</td>\n",
       "      <td>0</td>\n",
       "      <td>0</td>\n",
       "      <td>0</td>\n",
       "      <td>0</td>\n",
       "      <td>...</td>\n",
       "      <td>0</td>\n",
       "      <td>0</td>\n",
       "      <td>0</td>\n",
       "      <td>0</td>\n",
       "      <td>0</td>\n",
       "      <td>1</td>\n",
       "      <td>0</td>\n",
       "      <td>0</td>\n",
       "      <td>0</td>\n",
       "      <td>0</td>\n",
       "    </tr>\n",
       "  </tbody>\n",
       "</table>\n",
       "<p>5000 rows × 46 columns</p>\n",
       "</div>"
      ],
      "text/plain": [
       "             Default_On_Payment  Purposre_Credit_Taken_A40  \\\n",
       "Customer_ID                                                  \n",
       "100001                        0                          0   \n",
       "100002                        0                          0   \n",
       "100003                        0                          0   \n",
       "100004                        0                          0   \n",
       "100005                        1                          1   \n",
       "...                         ...                        ...   \n",
       "104996                        0                          0   \n",
       "104997                        0                          0   \n",
       "104998                        0                          0   \n",
       "104999                        1                          0   \n",
       "105000                        0                          0   \n",
       "\n",
       "             Purposre_Credit_Taken_A41  Purposre_Credit_Taken_A410  \\\n",
       "Customer_ID                                                          \n",
       "100001                               0                           0   \n",
       "100002                               0                           0   \n",
       "100003                               0                           0   \n",
       "100004                               0                           0   \n",
       "100005                               0                           0   \n",
       "...                                ...                         ...   \n",
       "104996                               0                           0   \n",
       "104997                               1                           0   \n",
       "104998                               0                           0   \n",
       "104999                               0                           0   \n",
       "105000                               1                           0   \n",
       "\n",
       "             Purposre_Credit_Taken_A42  Purposre_Credit_Taken_A43  \\\n",
       "Customer_ID                                                         \n",
       "100001                               0                          1   \n",
       "100002                               0                          1   \n",
       "100003                               0                          0   \n",
       "100004                               1                          0   \n",
       "100005                               0                          0   \n",
       "...                                ...                        ...   \n",
       "104996                               1                          0   \n",
       "104997                               0                          0   \n",
       "104998                               0                          1   \n",
       "104999                               0                          1   \n",
       "105000                               0                          0   \n",
       "\n",
       "             Purposre_Credit_Taken_A44  Purposre_Credit_Taken_A45  \\\n",
       "Customer_ID                                                         \n",
       "100001                               0                          0   \n",
       "100002                               0                          0   \n",
       "100003                               0                          0   \n",
       "100004                               0                          0   \n",
       "100005                               0                          0   \n",
       "...                                ...                        ...   \n",
       "104996                               0                          0   \n",
       "104997                               0                          0   \n",
       "104998                               0                          0   \n",
       "104999                               0                          0   \n",
       "105000                               0                          0   \n",
       "\n",
       "             Purposre_Credit_Taken_A46  Purposre_Credit_Taken_A48  ...  \\\n",
       "Customer_ID                                                        ...   \n",
       "100001                               0                          0  ...   \n",
       "100002                               0                          0  ...   \n",
       "100003                               1                          0  ...   \n",
       "100004                               0                          0  ...   \n",
       "100005                               0                          0  ...   \n",
       "...                                ...                        ...  ...   \n",
       "104996                               0                          0  ...   \n",
       "104997                               0                          0  ...   \n",
       "104998                               0                          0  ...   \n",
       "104999                               0                          0  ...   \n",
       "105000                               0                          0  ...   \n",
       "\n",
       "             Credit_amount_binned_B24  Credit_amount_binned_B25  \\\n",
       "Customer_ID                                                       \n",
       "100001                              0                         0   \n",
       "100002                              0                         0   \n",
       "100003                              0                         0   \n",
       "100004                              0                         0   \n",
       "100005                              0                         0   \n",
       "...                               ...                       ...   \n",
       "104996                              0                         0   \n",
       "104997                              0                         0   \n",
       "104998                              0                         0   \n",
       "104999                              0                         0   \n",
       "105000                              0                         0   \n",
       "\n",
       "             Credit_amount_binned_B26  Credit_amount_binned_B27  \\\n",
       "Customer_ID                                                       \n",
       "100001                              0                         0   \n",
       "100002                              0                         0   \n",
       "100003                              0                         0   \n",
       "100004                              0                         0   \n",
       "100005                              0                         0   \n",
       "...                               ...                       ...   \n",
       "104996                              0                         0   \n",
       "104997                              0                         0   \n",
       "104998                              0                         0   \n",
       "104999                              0                         0   \n",
       "105000                              0                         0   \n",
       "\n",
       "             Age_binned_B30  Age_binned_B31  Age_binned_B32  Age_binned_B33  \\\n",
       "Customer_ID                                                                   \n",
       "100001                    0               0               0               0   \n",
       "100002                    1               0               0               0   \n",
       "100003                    0               0               0               1   \n",
       "100004                    0               0               0               1   \n",
       "100005                    0               0               0               1   \n",
       "...                     ...             ...             ...             ...   \n",
       "104996                    0               1               0               0   \n",
       "104997                    0               0               1               0   \n",
       "104998                    0               0               1               0   \n",
       "104999                    1               0               0               0   \n",
       "105000                    0               1               0               0   \n",
       "\n",
       "             Age_binned_B34  Age_binned_B35  \n",
       "Customer_ID                                  \n",
       "100001                    0               1  \n",
       "100002                    0               0  \n",
       "100003                    0               0  \n",
       "100004                    0               0  \n",
       "100005                    0               0  \n",
       "...                     ...             ...  \n",
       "104996                    0               0  \n",
       "104997                    0               0  \n",
       "104998                    0               0  \n",
       "104999                    0               0  \n",
       "105000                    0               0  \n",
       "\n",
       "[5000 rows x 46 columns]"
      ]
     },
     "execution_count": 11,
     "metadata": {},
     "output_type": "execute_result"
    }
   ],
   "source": [
    "NN_data"
   ]
  },
  {
   "cell_type": "code",
   "execution_count": 12,
   "metadata": {},
   "outputs": [],
   "source": [
    "data = NN_data.values\n",
    "X = data[:, 1:77]\n",
    "y = data[:, 0]"
   ]
  },
  {
   "cell_type": "code",
   "execution_count": 13,
   "metadata": {},
   "outputs": [
    {
     "data": {
      "text/plain": [
       "46"
      ]
     },
     "execution_count": 13,
     "metadata": {},
     "output_type": "execute_result"
    }
   ],
   "source": [
    "len(NN_data.columns)"
   ]
  },
  {
   "cell_type": "code",
   "execution_count": 14,
   "metadata": {},
   "outputs": [
    {
     "data": {
      "text/plain": [
       "((5000, 45), (5000,))"
      ]
     },
     "execution_count": 14,
     "metadata": {},
     "output_type": "execute_result"
    }
   ],
   "source": [
    "X.shape, y.shape"
   ]
  },
  {
   "cell_type": "code",
   "execution_count": 15,
   "metadata": {},
   "outputs": [
    {
     "data": {
      "text/plain": [
       "array([0, 0, 0, 0, 1, 0, 0, 0, 0, 0, 0, 0, 0, 0, 1, 1, 0, 0, 0, 1, 0, 0,\n",
       "       1, 1, 0, 1, 0, 0, 0, 0, 0, 1, 0, 0, 0, 0, 0, 0, 0, 0, 0, 0, 0, 0,\n",
       "       1], dtype=int64)"
      ]
     },
     "execution_count": 15,
     "metadata": {},
     "output_type": "execute_result"
    }
   ],
   "source": [
    "X[0]"
   ]
  },
  {
   "cell_type": "code",
   "execution_count": 16,
   "metadata": {},
   "outputs": [
    {
     "data": {
      "text/plain": [
       "array([[1., 0.],\n",
       "       [1., 0.],\n",
       "       [1., 0.],\n",
       "       ...,\n",
       "       [1., 0.],\n",
       "       [0., 1.],\n",
       "       [1., 0.]], dtype=float32)"
      ]
     },
     "execution_count": 16,
     "metadata": {},
     "output_type": "execute_result"
    }
   ],
   "source": [
    "# one-hot encode y (y data is already label encoded)\n",
    "one_hot_y = to_categorical(y)\n",
    "one_hot_y"
   ]
  },
  {
   "cell_type": "code",
   "execution_count": 17,
   "metadata": {},
   "outputs": [
    {
     "data": {
      "text/plain": [
       "array([1., 0.], dtype=float32)"
      ]
     },
     "execution_count": 17,
     "metadata": {},
     "output_type": "execute_result"
    }
   ],
   "source": [
    "one_hot_y[0]"
   ]
  },
  {
   "cell_type": "code",
   "execution_count": 18,
   "metadata": {},
   "outputs": [],
   "source": [
    "#split data to train and test\n",
    "from sklearn.model_selection import train_test_split\n",
    "\n",
    "X_train, X_test, y_train, y_test = train_test_split(X, one_hot_y, random_state=1)"
   ]
  },
  {
   "cell_type": "code",
   "execution_count": 19,
   "metadata": {},
   "outputs": [
    {
     "data": {
      "text/plain": [
       "((3750, 45), (1250, 45), (3750, 2), (1250, 2))"
      ]
     },
     "execution_count": 19,
     "metadata": {},
     "output_type": "execute_result"
    }
   ],
   "source": [
    "X_train.shape, X_test.shape, y_train.shape, y_test.shape"
   ]
  },
  {
   "cell_type": "code",
   "execution_count": 20,
   "metadata": {},
   "outputs": [
    {
     "name": "stdout",
     "output_type": "stream",
     "text": [
      "WARNING:tensorflow:From C:\\Users\\cgilb\\Anaconda3\\envs\\PythonData\\lib\\site-packages\\tensorflow\\python\\ops\\init_ops.py:1251: calling VarianceScaling.__init__ (from tensorflow.python.ops.init_ops) with dtype is deprecated and will be removed in a future version.\n",
      "Instructions for updating:\n",
      "Call initializer instance with the dtype argument instead of passing it to the constructor\n"
     ]
    }
   ],
   "source": [
    "# create basic single hidden layer model to test (ignore future version warning)\n",
    "from tensorflow.keras.models import Sequential\n",
    "from tensorflow.keras.layers import Dense\n",
    "\n",
    "model = Sequential()\n",
    "model.add(Dense(units=51, activation='relu', input_dim=45))\n",
    "model.add(Dense(units=51, activation='relu'))\n",
    "model.add(Dense(units=51, activation='relu'))\n",
    "model.add(Dense(units=2, activation='softmax'))"
   ]
  },
  {
   "cell_type": "code",
   "execution_count": 21,
   "metadata": {
    "scrolled": true
   },
   "outputs": [
    {
     "name": "stdout",
     "output_type": "stream",
     "text": [
      "Model: \"sequential\"\n",
      "_________________________________________________________________\n",
      "Layer (type)                 Output Shape              Param #   \n",
      "=================================================================\n",
      "dense (Dense)                (None, 51)                2346      \n",
      "_________________________________________________________________\n",
      "dense_1 (Dense)              (None, 51)                2652      \n",
      "_________________________________________________________________\n",
      "dense_2 (Dense)              (None, 51)                2652      \n",
      "_________________________________________________________________\n",
      "dense_3 (Dense)              (None, 2)                 104       \n",
      "=================================================================\n",
      "Total params: 7,754\n",
      "Trainable params: 7,754\n",
      "Non-trainable params: 0\n",
      "_________________________________________________________________\n"
     ]
    }
   ],
   "source": [
    "model.summary()"
   ]
  },
  {
   "cell_type": "code",
   "execution_count": 22,
   "metadata": {},
   "outputs": [],
   "source": [
    "# Compile the model\n",
    "model.compile(optimizer='adam',\n",
    "              loss='binary_crossentropy',\n",
    "              metrics=['accuracy'])"
   ]
  },
  {
   "cell_type": "code",
   "execution_count": 23,
   "metadata": {},
   "outputs": [
    {
     "name": "stdout",
     "output_type": "stream",
     "text": [
      "WARNING:tensorflow:From C:\\Users\\cgilb\\Anaconda3\\envs\\PythonData\\lib\\site-packages\\tensorflow\\python\\ops\\math_grad.py:1250: add_dispatch_support.<locals>.wrapper (from tensorflow.python.ops.array_ops) is deprecated and will be removed in a future version.\n",
      "Instructions for updating:\n",
      "Use tf.where in 2.0, which has the same broadcast rule as np.where\n",
      "Epoch 1/100\n",
      "3750/3750 - 0s - loss: 0.5809 - acc: 0.7005\n",
      "Epoch 2/100\n",
      "3750/3750 - 0s - loss: 0.4982 - acc: 0.7448\n",
      "Epoch 3/100\n",
      "3750/3750 - 0s - loss: 0.4443 - acc: 0.7867\n",
      "Epoch 4/100\n",
      "3750/3750 - 0s - loss: 0.3757 - acc: 0.8325\n",
      "Epoch 5/100\n",
      "3750/3750 - 0s - loss: 0.3211 - acc: 0.8605\n",
      "Epoch 6/100\n",
      "3750/3750 - 0s - loss: 0.2629 - acc: 0.8893\n",
      "Epoch 7/100\n",
      "3750/3750 - 0s - loss: 0.2154 - acc: 0.9120\n",
      "Epoch 8/100\n",
      "3750/3750 - 0s - loss: 0.1919 - acc: 0.9213\n",
      "Epoch 9/100\n",
      "3750/3750 - 0s - loss: 0.1715 - acc: 0.9229\n",
      "Epoch 10/100\n",
      "3750/3750 - 0s - loss: 0.1586 - acc: 0.9299\n",
      "Epoch 11/100\n",
      "3750/3750 - 0s - loss: 0.1510 - acc: 0.9328\n",
      "Epoch 12/100\n",
      "3750/3750 - 0s - loss: 0.1396 - acc: 0.9381\n",
      "Epoch 13/100\n",
      "3750/3750 - 0s - loss: 0.1368 - acc: 0.9403\n",
      "Epoch 14/100\n",
      "3750/3750 - 0s - loss: 0.1415 - acc: 0.9363\n",
      "Epoch 15/100\n",
      "3750/3750 - 0s - loss: 0.1320 - acc: 0.9352\n",
      "Epoch 16/100\n",
      "3750/3750 - 0s - loss: 0.1322 - acc: 0.9379\n",
      "Epoch 17/100\n",
      "3750/3750 - 0s - loss: 0.1292 - acc: 0.9389\n",
      "Epoch 18/100\n",
      "3750/3750 - 0s - loss: 0.1289 - acc: 0.9349\n",
      "Epoch 19/100\n",
      "3750/3750 - 0s - loss: 0.1247 - acc: 0.9395\n",
      "Epoch 20/100\n",
      "3750/3750 - 0s - loss: 0.1350 - acc: 0.9355\n",
      "Epoch 21/100\n",
      "3750/3750 - 0s - loss: 0.1245 - acc: 0.9411\n",
      "Epoch 22/100\n",
      "3750/3750 - 0s - loss: 0.1226 - acc: 0.9419\n",
      "Epoch 23/100\n",
      "3750/3750 - 0s - loss: 0.1240 - acc: 0.9371\n",
      "Epoch 24/100\n",
      "3750/3750 - 0s - loss: 0.1204 - acc: 0.9373\n",
      "Epoch 25/100\n",
      "3750/3750 - 0s - loss: 0.1207 - acc: 0.9381\n",
      "Epoch 26/100\n",
      "3750/3750 - 0s - loss: 0.1205 - acc: 0.9384\n",
      "Epoch 27/100\n",
      "3750/3750 - 0s - loss: 0.1198 - acc: 0.9395\n",
      "Epoch 28/100\n",
      "3750/3750 - 0s - loss: 0.1206 - acc: 0.9381\n",
      "Epoch 29/100\n",
      "3750/3750 - 0s - loss: 0.1220 - acc: 0.9381\n",
      "Epoch 30/100\n",
      "3750/3750 - 0s - loss: 0.1204 - acc: 0.9368\n",
      "Epoch 31/100\n",
      "3750/3750 - 0s - loss: 0.1181 - acc: 0.9395\n",
      "Epoch 32/100\n",
      "3750/3750 - 0s - loss: 0.1175 - acc: 0.9384\n",
      "Epoch 33/100\n",
      "3750/3750 - 0s - loss: 0.1166 - acc: 0.9408\n",
      "Epoch 34/100\n",
      "3750/3750 - 0s - loss: 0.1131 - acc: 0.9387\n",
      "Epoch 35/100\n",
      "3750/3750 - 0s - loss: 0.1165 - acc: 0.9373\n",
      "Epoch 36/100\n",
      "3750/3750 - 0s - loss: 0.1151 - acc: 0.9392\n",
      "Epoch 37/100\n",
      "3750/3750 - 0s - loss: 0.1180 - acc: 0.9387\n",
      "Epoch 38/100\n",
      "3750/3750 - 0s - loss: 0.1138 - acc: 0.9360\n",
      "Epoch 39/100\n",
      "3750/3750 - 0s - loss: 0.1111 - acc: 0.9403\n",
      "Epoch 40/100\n",
      "3750/3750 - 0s - loss: 0.1122 - acc: 0.9389\n",
      "Epoch 41/100\n",
      "3750/3750 - 0s - loss: 0.1138 - acc: 0.9397\n",
      "Epoch 42/100\n",
      "3750/3750 - 0s - loss: 0.1111 - acc: 0.9408\n",
      "Epoch 43/100\n",
      "3750/3750 - 0s - loss: 0.1109 - acc: 0.9408\n",
      "Epoch 44/100\n",
      "3750/3750 - 0s - loss: 0.1147 - acc: 0.9349\n",
      "Epoch 45/100\n",
      "3750/3750 - 0s - loss: 0.1108 - acc: 0.9408\n",
      "Epoch 46/100\n",
      "3750/3750 - 0s - loss: 0.1098 - acc: 0.9416\n",
      "Epoch 47/100\n",
      "3750/3750 - 0s - loss: 0.1112 - acc: 0.9387\n",
      "Epoch 48/100\n",
      "3750/3750 - 0s - loss: 0.1114 - acc: 0.9384\n",
      "Epoch 49/100\n",
      "3750/3750 - 0s - loss: 0.1102 - acc: 0.9384\n",
      "Epoch 50/100\n",
      "3750/3750 - 0s - loss: 0.1112 - acc: 0.9360\n",
      "Epoch 51/100\n",
      "3750/3750 - 0s - loss: 0.1093 - acc: 0.9395\n",
      "Epoch 52/100\n",
      "3750/3750 - 0s - loss: 0.1111 - acc: 0.9432\n",
      "Epoch 53/100\n",
      "3750/3750 - 0s - loss: 0.1121 - acc: 0.9403\n",
      "Epoch 54/100\n",
      "3750/3750 - 0s - loss: 0.1083 - acc: 0.9384\n",
      "Epoch 55/100\n",
      "3750/3750 - 0s - loss: 0.1096 - acc: 0.9413\n",
      "Epoch 56/100\n",
      "3750/3750 - 0s - loss: 0.1087 - acc: 0.9416\n",
      "Epoch 57/100\n",
      "3750/3750 - 0s - loss: 0.1109 - acc: 0.9379\n",
      "Epoch 58/100\n",
      "3750/3750 - 0s - loss: 0.1088 - acc: 0.9413\n",
      "Epoch 59/100\n",
      "3750/3750 - 0s - loss: 0.1083 - acc: 0.9413\n",
      "Epoch 60/100\n",
      "3750/3750 - 0s - loss: 0.1081 - acc: 0.9381\n",
      "Epoch 61/100\n",
      "3750/3750 - 0s - loss: 0.1078 - acc: 0.9411\n",
      "Epoch 62/100\n",
      "3750/3750 - 0s - loss: 0.1064 - acc: 0.9411\n",
      "Epoch 63/100\n",
      "3750/3750 - 0s - loss: 0.1065 - acc: 0.9373\n",
      "Epoch 64/100\n",
      "3750/3750 - 0s - loss: 0.1042 - acc: 0.9384\n",
      "Epoch 65/100\n",
      "3750/3750 - 0s - loss: 0.1035 - acc: 0.9408\n",
      "Epoch 66/100\n",
      "3750/3750 - 0s - loss: 0.1066 - acc: 0.9392\n",
      "Epoch 67/100\n",
      "3750/3750 - 0s - loss: 0.1039 - acc: 0.9427\n",
      "Epoch 68/100\n",
      "3750/3750 - 0s - loss: 0.1080 - acc: 0.9411\n",
      "Epoch 69/100\n",
      "3750/3750 - 0s - loss: 0.1067 - acc: 0.9421\n",
      "Epoch 70/100\n",
      "3750/3750 - 0s - loss: 0.1042 - acc: 0.9400\n",
      "Epoch 71/100\n",
      "3750/3750 - 0s - loss: 0.1047 - acc: 0.9392\n",
      "Epoch 72/100\n",
      "3750/3750 - 0s - loss: 0.1024 - acc: 0.9400\n",
      "Epoch 73/100\n",
      "3750/3750 - 0s - loss: 0.1045 - acc: 0.9363\n",
      "Epoch 74/100\n",
      "3750/3750 - 0s - loss: 0.1101 - acc: 0.9384\n",
      "Epoch 75/100\n",
      "3750/3750 - 0s - loss: 0.1116 - acc: 0.9400\n",
      "Epoch 76/100\n",
      "3750/3750 - 0s - loss: 0.1075 - acc: 0.9408\n",
      "Epoch 77/100\n",
      "3750/3750 - 0s - loss: 0.1022 - acc: 0.9405\n",
      "Epoch 78/100\n",
      "3750/3750 - 0s - loss: 0.1018 - acc: 0.9453\n",
      "Epoch 79/100\n",
      "3750/3750 - 0s - loss: 0.1017 - acc: 0.9413\n",
      "Epoch 80/100\n",
      "3750/3750 - 0s - loss: 0.1039 - acc: 0.9392\n",
      "Epoch 81/100\n",
      "3750/3750 - 0s - loss: 0.1001 - acc: 0.9392\n",
      "Epoch 82/100\n",
      "3750/3750 - 0s - loss: 0.1002 - acc: 0.9392\n",
      "Epoch 83/100\n",
      "3750/3750 - 0s - loss: 0.0997 - acc: 0.9384\n",
      "Epoch 84/100\n",
      "3750/3750 - 0s - loss: 0.1018 - acc: 0.9437\n",
      "Epoch 85/100\n",
      "3750/3750 - 0s - loss: 0.1025 - acc: 0.9408\n",
      "Epoch 86/100\n",
      "3750/3750 - 0s - loss: 0.1018 - acc: 0.9411\n",
      "Epoch 87/100\n",
      "3750/3750 - 0s - loss: 0.0992 - acc: 0.9405\n",
      "Epoch 88/100\n",
      "3750/3750 - 0s - loss: 0.1000 - acc: 0.9397\n",
      "Epoch 89/100\n",
      "3750/3750 - 0s - loss: 0.0994 - acc: 0.9419\n",
      "Epoch 90/100\n",
      "3750/3750 - 0s - loss: 0.0990 - acc: 0.9403\n",
      "Epoch 91/100\n",
      "3750/3750 - 0s - loss: 0.1004 - acc: 0.9421\n",
      "Epoch 92/100\n",
      "3750/3750 - 0s - loss: 0.1005 - acc: 0.9400\n",
      "Epoch 93/100\n",
      "3750/3750 - 0s - loss: 0.0982 - acc: 0.9467\n",
      "Epoch 94/100\n",
      "3750/3750 - 0s - loss: 0.1020 - acc: 0.9389\n",
      "Epoch 95/100\n",
      "3750/3750 - 0s - loss: 0.0997 - acc: 0.9411\n",
      "Epoch 96/100\n",
      "3750/3750 - 0s - loss: 0.0987 - acc: 0.9413\n",
      "Epoch 97/100\n",
      "3750/3750 - 0s - loss: 0.0996 - acc: 0.9435\n",
      "Epoch 98/100\n",
      "3750/3750 - 0s - loss: 0.0982 - acc: 0.9411\n",
      "Epoch 99/100\n",
      "3750/3750 - 0s - loss: 0.1015 - acc: 0.9389\n",
      "Epoch 100/100\n",
      "3750/3750 - 0s - loss: 0.0982 - acc: 0.9437\n"
     ]
    },
    {
     "data": {
      "text/plain": [
       "<tensorflow.python.keras.callbacks.History at 0x1ddf7a4a198>"
      ]
     },
     "execution_count": 23,
     "metadata": {},
     "output_type": "execute_result"
    }
   ],
   "source": [
    "# Fit the model to the training data\n",
    "model.fit(\n",
    "    X_train,\n",
    "    y_train,\n",
    "    epochs=100,\n",
    "    shuffle=True,\n",
    "    verbose=2\n",
    ")"
   ]
  },
  {
   "cell_type": "code",
   "execution_count": 24,
   "metadata": {},
   "outputs": [
    {
     "name": "stdout",
     "output_type": "stream",
     "text": [
      "1250/1250 - 0s - loss: 0.1030 - acc: 0.9368\n",
      "model - Loss: 0.10301915714740753, Accuracy: 0.9368000030517578\n"
     ]
    }
   ],
   "source": [
    "model_loss, model_accuracy = model.evaluate(\n",
    "    X_test, y_test, verbose=2)\n",
    "print(f\"model - Loss: {model_loss}, Accuracy: {model_accuracy}\")"
   ]
  },
  {
   "cell_type": "code",
   "execution_count": 25,
   "metadata": {},
   "outputs": [
    {
     "name": "stdout",
     "output_type": "stream",
     "text": [
      "              precision    recall  f1-score   support\n",
      "\n",
      "  no-default       0.95      0.96      0.96       901\n",
      "     default       0.90      0.87      0.89       349\n",
      "\n",
      "   micro avg       0.94      0.94      0.94      1250\n",
      "   macro avg       0.92      0.92      0.92      1250\n",
      "weighted avg       0.94      0.94      0.94      1250\n",
      " samples avg       0.94      0.94      0.94      1250\n",
      "\n"
     ]
    }
   ],
   "source": [
    "from sklearn.metrics import classification_report\n",
    "\n",
    "predictions = model.predict(X_test).round()\n",
    "print(classification_report(y_test, predictions, target_names=[\"no-default\", \"default\"]))"
   ]
  },
  {
   "cell_type": "code",
   "execution_count": 26,
   "metadata": {},
   "outputs": [],
   "source": [
    "import seaborn as sns\n",
    "from sklearn import preprocessing,metrics\n",
    "from sklearn.neural_network import MLPClassifier\n",
    "from sklearn.metrics import accuracy_score\n",
    "import matplotlib.pyplot as plt\n",
    "import itertools\n",
    "from sklearn.metrics import confusion_matrix"
   ]
  },
  {
   "cell_type": "code",
   "execution_count": 27,
   "metadata": {},
   "outputs": [],
   "source": [
    "sns.set('talk', 'whitegrid', 'dark', font_scale=1,rc={\"lines.linewidth\": 2, 'grid.linestyle': '--'})\n",
    "def plotAUC(truth, pred, lab):\n",
    "    fpr, tpr, _ = metrics.roc_curve(truth,pred)\n",
    "    roc_auc = metrics.auc(fpr, tpr)\n",
    "    lw = 2\n",
    "    c = (np.random.rand(), np.random.rand(), np.random.rand())\n",
    "    plt.plot(fpr, tpr, color= c,lw=lw, label= lab +'(AUC = %0.2f)' % roc_auc)\n",
    "    plt.plot([0, 1], [0, 1], color='navy', lw=lw, linestyle='--')\n",
    "    plt.xlim([0.0, 1.0])\n",
    "    plt.ylim([0.0, 1.0])\n",
    "    plt.xlabel('False Positive Rate')\n",
    "    plt.ylabel('True Positive Rate')\n",
    "    plt.title('ROC curve') #Receiver Operating Characteristic \n",
    "    plt.legend(loc=\"lower right\")\n",
    "    plt.show()"
   ]
  },
  {
   "cell_type": "code",
   "execution_count": 28,
   "metadata": {},
   "outputs": [],
   "source": [
    "def decode(datum):\n",
    "    return np.argmax(datum)"
   ]
  },
  {
   "cell_type": "code",
   "execution_count": 29,
   "metadata": {},
   "outputs": [],
   "source": [
    "output1 = []\n",
    "\n",
    "for i in range(y_test.shape[0]):\n",
    "    datum = y_test[i]\n",
    "    decoded_datum = decode(y_test[i])\n",
    "    output1.append(decoded_datum)"
   ]
  },
  {
   "cell_type": "code",
   "execution_count": 30,
   "metadata": {},
   "outputs": [],
   "source": [
    "decoded_y_test = output1"
   ]
  },
  {
   "cell_type": "code",
   "execution_count": 31,
   "metadata": {},
   "outputs": [],
   "source": [
    "output2 = []\n",
    "\n",
    "for i in range(predictions.shape[0]):\n",
    "    datum = predictions[i]\n",
    "    decoded_datum = decode(predictions[i])\n",
    "    output2.append(decoded_datum)"
   ]
  },
  {
   "cell_type": "code",
   "execution_count": 32,
   "metadata": {},
   "outputs": [],
   "source": [
    "decoded_predictions = output2\n"
   ]
  },
  {
   "cell_type": "code",
   "execution_count": 33,
   "metadata": {},
   "outputs": [],
   "source": [
    "#Create function to calculate Confusion Matrix\n",
    "import itertools\n",
    "from sklearn.metrics import confusion_matrix\n",
    "def plot_confusion_matrix(model, normalize=False): # This function prints and plots the confusion matrix.\n",
    "    cm = confusion_matrix(decoded_y_test, model, labels=[0, 1])\n",
    "    classes=[\"No Default\", \"Defaulted\"]\n",
    "    \n",
    "    cmap = plt.cm.Blues\n",
    "    title = \"Confusion Matrix\"\n",
    "    if normalize:\n",
    "        cm = cm.astype('float') / cm.sum(axis=1)[:, np.newaxis]\n",
    "        cm = np.around(cm, decimals=3)\n",
    "    plt.imshow(cm, interpolation='nearest', cmap=cmap)\n",
    "    plt.title(title)\n",
    "    plt.colorbar()\n",
    "    tick_marks = np.arange(len(classes))\n",
    "    plt.xticks(tick_marks, classes, rotation=45)\n",
    "    plt.yticks(tick_marks, classes)\n",
    "    thresh = cm.max() / 2.\n",
    "    for i, j in itertools.product(range(cm.shape[0]), range(cm.shape[1])):\n",
    "        plt.text(j, i, cm[i, j],\n",
    "                 horizontalalignment=\"center\",\n",
    "                 color=\"white\" if cm[i, j] > thresh else \"black\")\n",
    "    plt.ylim(-0.5,1.5)\n",
    "    plt.tight_layout()\n",
    "    plt.ylabel('True label')\n",
    "    plt.xlabel('Predicted label')\n",
    "    plt.show()"
   ]
  },
  {
   "cell_type": "code",
   "execution_count": 34,
   "metadata": {},
   "outputs": [
    {
     "data": {
      "image/png": "[encoded data removed]",
      "text/plain": [
       "<Figure size 432x432 with 2 Axes>"
      ]
     },
     "metadata": {},
     "output_type": "display_data"
    }
   ],
   "source": [
    "plt.figure(figsize=(6,6))\n",
    "plot_confusion_matrix(decoded_predictions, normalize=True)"
   ]
  },
  {
   "cell_type": "code",
   "execution_count": null,
   "metadata": {},
   "outputs": [],
   "source": []
  },
  {
   "cell_type": "code",
   "execution_count": null,
   "metadata": {},
   "outputs": [],
   "source": []
  },
  {
   "cell_type": "code",
   "execution_count": null,
   "metadata": {},
   "outputs": [],
   "source": []
  }
 ],
 "metadata": {
  "kernelspec": {
   "display_name": "Python [conda env:PythonData] *",
   "language": "python",
   "name": "conda-env-PythonData-py"
  },
  "language_info": {
   "codemirror_mode": {
    "name": "ipython",
    "version": 3
   },
   "file_extension": ".py",
   "mimetype": "text/x-python",
   "name": "python",
   "nbconvert_exporter": "python",
   "pygments_lexer": "ipython3",
   "version": "3.6.9"
  }
 },
 "nbformat": 4,
 "nbformat_minor": 2
}
