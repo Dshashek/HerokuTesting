{
 "cells": [
  {
   "cell_type": "code",
   "execution_count": 6,
   "metadata": {},
   "outputs": [],
   "source": [
    "#dependencies\n",
    "import pandas as pd\n",
    "from bs4 import BeautifulSoup as bs\n",
    "from bs4 import BeautifulSoup\n",
    "import os\n",
    "import datetime\n",
    "import time\n",
    "from datetime import timedelta\n",
    "from splinter import Browser\n",
    "import requests"
   ]
  },
  {
   "cell_type": "code",
   "execution_count": 10,
   "metadata": {},
   "outputs": [],
   "source": [
    "response = requests.get('http://localhost:5000')"
   ]
  },
  {
   "cell_type": "code",
   "execution_count": 11,
   "metadata": {},
   "outputs": [
    {
     "data": {
      "text/plain": [
       "'<!DOCTYPE html>\\n\\n<head>\\n\\n    <!--Import Bootstrap and Ajax -->\\n    <link rel=\"stylesheet\" href=\"https://stackpath.bootstrapcdn.com/bootstrap/4.3.1/css/bootstrap.min.css\"\\n        integrity=\"sha384-ggOyR0iXCbMQv3Xipma34MD+dH/1fQ784/j6cY/iJTQUOhcWr7x9JvoRxT2MZw1T\" crossorigin=\"anonymous\">\\n    <script src=\"https://ajax.googleapis.com/ajax/libs/jquery/3.1.0/jquery.min.js\"></script>\\n\\n    <!-- Import selectors.js-->\\n    <script src=\"/static/js/selectors.js\"></script>\\n\\n\\n</head>\\n\\n<body>\\n\\n    <div class=\"jumbotron jumbotron-fluid\">\\n        <div class=\"container\">\\n            <h1 class=\"display-4\">Area 51 Financial</h1>\\n            <p class=\"lead\">Loan Approval Form</p>\\n        </div>\\n    </div>\\n\\n    <div class=\"container\">\\n        <div class=\"input-group mb-3\">\\n            <div class=\"input-group-prepend\">\\n                <label class=\"input-group-text\" for=\"dependents\">Do you have dependents?</label>\\n            </div>\\n            <select class=\"custom-select\" id=\"dependents\">\\n                <option selected>Choose...</option>\\n                <option value=\"0\">Yes</option>\\n                <option value=\"1\">No</option>\\n            </select>\\n        </div>\\n            \\n        <div class=\"input-group mb-3\">\\n                <div class=\"input-group-prepend\">\\n                    <label class=\"input-group-text\" for=\"checkingAcctBalance\">What is the current balance of your checking account?</label>\\n                </div>\\n                <select class=\"custom-select\" id=\"checkingAcctBalance\">\\n                    <option selected>Choose...</option>\\n                    <option value=\"A11\">Negative</option>\\n                    <option value=\"A12\">$0 - $10,000</option>\\n                    <option value=\"A13\">$10,000 or more</option>\\n                    <option value=\"A14\">No checking account</option>\\n                </select>\\n            </div>\\n\\n        <div class=\"input-group mb-3\">\\n            <div class=\"input-group-prepend\">\\n                <label class=\"input-group-text\" for=\"loanLength\">How long of a loan do you need?</label>\\n            </div>\\n            <select class=\"custom-select\" id=\"loanLength\">\\n                <option selected>Choose...</option>\\n                <option value=\"B10\">0 to 11 months</option>\\n                <option value=\"B11\">12 to 23 months</option>\\n                <option value=\"B12\">24 to 35 months</option>\\n                <option value=\"B13\">36 to 47 months</option>\\n                <option value=\"B14\">48 to 60 months</option>\\n                <option value=\"B15\">60 to 72 months</option>\\n            </select>\\n        </div>\\n\\n        <div class=\"input-group mb-3\">\\n            <div class=\"input-group-prepend\">\\n                <label class=\"input-group-text\" for=\"creditHistory\">What is your credit history?</label>\\n            </div>\\n            <select class=\"custom-select\" id=\"creditHistory\">\\n                <option selected>Choose...</option>\\n                <option value=\"A30\">No Credit History</option>\\n                <option value=\"A31\">All debts repaid</option>\\n                <option value=\"A32\">All existing loans in good standing</option>\\n                <option value=\"A33\">History of late payments/nonpayments</option>\\n                <option value=\"A34\">Critical account at other bank</option>\\n            </select>\\n        </div>\\n\\n        <div class=\"input-group mb-3\">\\n            <div class=\"input-group-prepend\">\\n                <label class=\"input-group-text\" for=\"loanPurpose\">What is this loan for?</label>\\n            </div>\\n            <select class=\"custom-select\" id=\"loanPurpose\">\\n                <option selected>Choose...</option>\\n                <option value=\"A40\">New Car</option>\\n                <option value=\"A41\">Used Car</option>\\n                <option value=\"A42\">Furniture</option>\\n                <option value=\"A43\">Television/Stero</option>\\n                <option value=\"A44\">Appliances</option>\\n                <option value=\"A45\">Repairs</option>\\n                <option value=\"A46\">Education</option>\\n                <option value=\"A48\">Retraining</option>\\n                <option value=\"A49\">Business</option>\\n                <option value=\"A410\">Other</option>\\n            </select>\\n        </div>\\n\\n        <div class=\"input-group mb-3\">\\n                <div class=\"input-group-prepend\">\\n                    <label class=\"input-group-text\" for=\"loanSize\">Size of loan?</label>\\n                </div>\\n                <select class=\"custom-select\" id=\"loanSize\">\\n                    <option selected>Choose...</option>\\n                    <option value=\"B200\">$0 to $2499</option>\\n                    <option value=\"B21\">$2500 to $4999</option>\\n                    <option value=\"B22\">$5000 to $7499</option>\\n                    <option value=\"B23\">$7500 to $9999</option>\\n                    <option value=\"B24\">$10000 to $12499</option>\\n                    <option value=\"B25\">$12500 to $14999</option>\\n                    <option value=\"B26\">$15000 to $17499</option>\\n                    <option value=\"B27\">$17500 to $20000</option>\\n                </select>\\n            </div>\\n                \\n            <div class=\"input-group mb-3\">\\n                    <div class=\"input-group-prepend\">\\n                        <label class=\"input-group-text\" for=\"savingsAcctBalance\">How much do you have in savings?</label>\\n                    </div>\\n                    <select class=\"custom-select\" id=\"savingsAcctBalance\">\\n                        <option selected>Choose...</option>\\n                        <option value=\"A61\">Less than $1,000</option>\\n                        <option value=\"A62\">$1,000 - $4,999</option>\\n                        <option value=\"A63\">$5,000 - $10,000</option>\\n                        <option value=\"A64\">More than $10,000</option>\\n                        <option value=\"A65\">No Savings</option>\\n                    </select>\\n                </div>\\n          \\n                <div class=\"input-group mb-3\">\\n                        <div class=\"input-group-prepend\">\\n                            <label class=\"input-group-text\" for=\"employmentHistory\">How many years have you been at your present employer?</label>\\n                        </div>\\n                        <select class=\"custom-select\" id=\"employmentHistory\">\\n                            <option selected>Choose...</option>\\n                            <option value=\"A71\">Unemployed</option>\\n                            <option value=\"A72\">Less than 1 year</option>\\n                            <option value=\"A73\">1-4 years</option>\\n                            <option value=\"A74\">5-7 years</option>\\n                            <option value=\"A75\">More than 7 years</option>\\n                        </select>\\n                    </div>\\n\\n        <div class=\"input-group mb-3\">\\n            <div class=\"input-group-prepend\">\\n                <label class=\"input-group-text\" for=\"cosignerCoborrower\">Do you have a co-borrower or guarantor?</label>\\n            </div>\\n            <select class=\"custom-select\" id=\"cosignerCoborrower\">\\n                <option selected>Choose...</option>\\n                <option value=\"A101\">None</option>\\n                <option value=\"A102\">Co-borrower</option>\\n                <option value=\"A103\">Guarantor</option>\\n            </select>\\n        </div>\\n\\n        <div class=\"input-group mb-3\">\\n            <div class=\"input-group-prepend\">\\n                <label class=\"input-group-text\" for=\"age\">What is your Age?</label>\\n            </div>\\n            <select class=\"custom-select\" id=\"age\">\\n                <option selected>Choose...</option>\\n                <option value=\"B30\">Under 24</option>\\n                <option value=\"B31\">25 to 34</option>\\n                <option value=\"B32\">35 to 44</option>\\n                <option value=\"B33\">45 to 54</option>\\n                <option value=\"B34\">55 to 64</option>\\n                <option value=\"B35\">65 to 75</option>\\n            </select>\\n        </div>\\n\\n        <div class=\"input-group mb-3\">\\n            <div class=\"input-group-prepend\">\\n                <label class=\"input-group-text\" for=\"otherLoans\">Do you have other installment loans?</label>\\n            </div>\\n            <select class=\"custom-select\" id=\"otherLoans\">\\n                <option selected>Choose...</option>\\n                <option value=\"A141\">Bank Loan</option>\\n                <option value=\"A142\">Store Loan</option>\\n                <option value=\"A143\">None</option>\\n\\n            </select>\\n        </div>\\n\\n        <div class=\"input-group mb-3\">\\n            <div class=\"input-group-prepend\">\\n                <label class=\"input-group-text\" for=\"homeowner\">Do you rent or own your home?</label>\\n            </div>\\n            <select class=\"custom-select\" id=\"homeowner\">\\n                <option selected>Choose...</option>\\n                <option value=\"A151\">Rent</option>\\n                <option value=\"A152\">Own</option>\\n                <option value=\"A153\">Other</option>\\n\\n            </select>\\n        </div>\\n\\n        <div class=\"input-group mb-3\">\\n            <div class=\"input-group-prepend\">\\n                <label class=\"input-group-text\" for=\"employmentType\">Describe your employment?</label>\\n            </div>\\n            <select class=\"custom-select\" id=\"employmentType\">\\n                <option selected>Choose...</option>\\n                <option value=\"A171\">Unemployed/Unskilled Labor nonresident</option>\\n                <option value=\"A172\">Unskilled resident</option>\\n                <option value=\"A173\">Skilled Labor</option>\\n                <option value=\"A174\">Management/Self Employed/Specialist</option>\\n            </select>\\n        </div>\\n\\n        <div class=\"input-group mb-3\">\\n            <div class=\"input-group-prepend\">\\n                <label class=\"input-group-text\" for=\"telephone\">Do you have active telephone service?</label>\\n            </div>\\n            <select class=\"custom-select\" id=\"telephone\">\\n                <option selected>Choose...</option>\\n                <option value=\"A191\">Yes</option>\\n                <option value=\"A192\">No</option>\\n\\n            </select>\\n        </div>\\n\\n        <div class=\"input-group mb-3\">\\n            <div class=\"input-group-prepend\">\\n                <label class=\"input-group-text\" for=\"foreignWorker\">Are you a foreign worker?</label>\\n            </div>\\n            <select class=\"custom-select\" id=\"foreignWorker\">\\n                <option selected>Choose...</option>\\n                <option value=\"A201\">Yes</option>\\n                <option value=\"A202\">No</option>\\n\\n            </select>\\n        </div>\\n\\n        <button type=\"button\" class=\"btn btn-primary btn-lg btn-block\" onclick=\"getInputs();doWork();\">Submit</button>\\n        </form>\\n\\n        <div id =\\'inputTarget\\'>String</div>\\n</body>\\n\\n</html>'"
      ]
     },
     "execution_count": 11,
     "metadata": {},
     "output_type": "execute_result"
    }
   ],
   "source": [
    "response.text"
   ]
  },
  {
   "cell_type": "code",
   "execution_count": 5,
   "metadata": {},
   "outputs": [
    {
     "name": "stderr",
     "output_type": "stream",
     "text": [
      "C:\\Users\\dshas\\anaconda\\Anaconda3\\lib\\site-packages\\bs4\\__init__.py:335: UserWarning: \"http://localhost:5000\" looks like a URL. Beautiful Soup is not an HTTP client. You should probably use an HTTP client like requests to get the document behind the URL, and feed that document to Beautiful Soup.\n",
      "  ' that document to Beautiful Soup.' % decoded_markup\n"
     ]
    }
   ],
   "source": [
    "sopu = BeautifulSoup('http://localhost:5000','html.parser')"
   ]
  },
  {
   "cell_type": "code",
   "execution_count": null,
   "metadata": {},
   "outputs": [],
   "source": []
  }
 ],
 "metadata": {
  "kernelspec": {
   "display_name": "Python 3",
   "language": "python",
   "name": "python3"
  },
  "language_info": {
   "codemirror_mode": {
    "name": "ipython",
    "version": 3
   },
   "file_extension": ".py",
   "mimetype": "text/x-python",
   "name": "python",
   "nbconvert_exporter": "python",
   "pygments_lexer": "ipython3",
   "version": "3.7.3"
  }
 },
 "nbformat": 4,
 "nbformat_minor": 2
}
